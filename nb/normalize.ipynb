{
 "cells": [
  {
   "cell_type": "code",
   "execution_count": 1,
   "metadata": {
    "pycharm": {
     "is_executing": false
    }
   },
   "outputs": [],
   "source": [
    "from typing import Sequence, Tuple\n",
    "\n",
    "from pysam import FastaFile"
   ]
  },
  {
   "cell_type": "code",
   "execution_count": 2,
   "metadata": {},
   "outputs": [],
   "source": [
    "REFERENCE = FastaFile('../ref/fasta.gz/human_g1k_v37.fasta')"
   ]
  },
  {
   "cell_type": "code",
   "execution_count": 3,
   "metadata": {},
   "outputs": [],
   "source": [
    "def truncate_right(alleles: Sequence[str]) -> Tuple[int, Sequence[str]]:\n",
    "    n_trunc = 0\n",
    "    for idx in range(1, min(map(len, alleles)) + 1):\n",
    "        if len({allele[-idx] for allele in alleles}) > 1:\n",
    "            break\n",
    "        n_trunc += 1\n",
    "    return n_trunc, tuple(allele[:-n_trunc] if n_trunc > 0 else allele for allele in alleles)"
   ]
  },
  {
   "cell_type": "code",
   "execution_count": 4,
   "metadata": {},
   "outputs": [],
   "source": [
    "# truncate_right(('ABCD', 'ABCD'))"
   ]
  },
  {
   "cell_type": "code",
   "execution_count": 5,
   "metadata": {},
   "outputs": [],
   "source": [
    "def truncate_left(alleles: Sequence[str], min_len=0) -> Tuple[int, Sequence[str]]:\n",
    "    n_trunc = 0\n",
    "    for idx in range(0, min(map(len, alleles)) - min_len):\n",
    "        if len({allele[idx] for allele in alleles}) > 1:\n",
    "            break\n",
    "        n_trunc += 1\n",
    "    return n_trunc, tuple(allele[n_trunc:] if n_trunc > 0 else allele for allele in alleles)"
   ]
  },
  {
   "cell_type": "code",
   "execution_count": 6,
   "metadata": {},
   "outputs": [],
   "source": [
    "# truncate_left(('ABCD', 'ABCD'), 2)"
   ]
  },
  {
   "cell_type": "code",
   "execution_count": 7,
   "metadata": {},
   "outputs": [],
   "source": [
    "def extend_left(alleles: Sequence[str], reference: FastaFile, contig: str, start: int) -> Sequence[str]:\n",
    "    ref_left = reference.fetch(region=contig, start=start - 1, end=start)\n",
    "    return tuple(''.join((ref_left, allele)) for allele in alleles_n)"
   ]
  },
  {
   "cell_type": "code",
   "execution_count": 8,
   "metadata": {},
   "outputs": [],
   "source": [
    "def normalize(contig: str, pos: int, alleles: Tuple[str], reference: FastaFile):\n",
    "    while True:\n",
    "        alleles_prev = alleles\n",
    "        _, alleles = truncate_right(alleles)\n",
    "\n",
    "        if any(len(allele) == 0 for allele in alleles):\n",
    "            alleles = extend_left(alleles, reference, contig, pos - 1)\n",
    "            alleles = tuple(''.join((left_base, allele)) for allele in alleles)\n",
    "            pos -= 1\n",
    "            \n",
    "        if alleles == alleles_prev:\n",
    "            break\n",
    "            \n",
    "    n_trunc, alleles = truncate_left(alleles, min_len=2)\n",
    "    pos -= n_trunc\n",
    "    \n",
    "    return contig, pos, alleles"
   ]
  },
  {
   "cell_type": "code",
   "execution_count": 9,
   "metadata": {},
   "outputs": [
    {
     "data": {
      "text/plain": [
       "('1', 931393, ('G', 'T'))"
      ]
     },
     "execution_count": 9,
     "metadata": {},
     "output_type": "execute_result"
    }
   ],
   "source": [
    "normalize(contig='1', pos=931393, alleles=('G', 'T'), reference=REFERENCE)"
   ]
  },
  {
   "cell_type": "code",
   "execution_count": 10,
   "metadata": {},
   "outputs": [
    {
     "data": {
      "text/plain": [
       "('1', 1654129, ('TA', 'T'))"
      ]
     },
     "execution_count": 10,
     "metadata": {},
     "output_type": "execute_result"
    }
   ],
   "source": [
    "normalize(contig='1', pos=1654129, alleles=('TAAAAAAAT', 'TAAAAAAT'), reference=REFERENCE)"
   ]
  },
  {
   "cell_type": "code",
   "execution_count": 11,
   "metadata": {},
   "outputs": [],
   "source": [
    "import requests"
   ]
  },
  {
   "cell_type": "code",
   "execution_count": 12,
   "metadata": {},
   "outputs": [],
   "source": [
    "def exac(contig, pos, alleles):\n",
    "    var = f'{contig}-{pos+1}-{\"-\".join(alleles)}'\n",
    "    url = f'http://exac.hms.harvard.edu/rest/variant/consequences/{var}'\n",
    "    print(url)\n",
    "    return requests.get(url).json()"
   ]
  },
  {
   "cell_type": "code",
   "execution_count": 13,
   "metadata": {},
   "outputs": [
    {
     "name": "stdout",
     "output_type": "stream",
     "text": [
      "http://exac.hms.harvard.edu/rest/variant/consequences/1-931393-G-T\n"
     ]
    }
   ],
   "source": [
    "exac(*('1', 931392, ('G', 'T')))"
   ]
  },
  {
   "cell_type": "code",
   "execution_count": 14,
   "metadata": {},
   "outputs": [
    {
     "name": "stdout",
     "output_type": "stream",
     "text": [
      "http://exac.hms.harvard.edu/rest/variant/consequences/1-6209059-GTCC-G\n"
     ]
    }
   ],
   "source": [
    "exac(*normalize('1', 6209058, ('GTCCTCCTCCTCCT', 'GTCCTCCTCCT'), REFERENCE))"
   ]
  },
  {
   "cell_type": "code",
   "execution_count": null,
   "metadata": {},
   "outputs": [],
   "source": []
  }
 ],
 "metadata": {
  "kernelspec": {
   "display_name": "Python 3",
   "language": "python",
   "name": "python3"
  },
  "language_info": {
   "codemirror_mode": {
    "name": "ipython",
    "version": 3
   },
   "file_extension": ".py",
   "mimetype": "text/x-python",
   "name": "python",
   "nbconvert_exporter": "python",
   "pygments_lexer": "ipython3",
   "version": "3.7.4"
  }
 },
 "nbformat": 4,
 "nbformat_minor": 1
}
