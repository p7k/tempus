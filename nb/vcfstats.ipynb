{
 "cells": [
  {
   "cell_type": "code",
   "execution_count": 1,
   "metadata": {},
   "outputs": [],
   "source": [
    "import vcf"
   ]
  },
  {
   "cell_type": "code",
   "execution_count": 2,
   "metadata": {},
   "outputs": [],
   "source": [
    "import pandas as pd"
   ]
  },
  {
   "cell_type": "code",
   "execution_count": 3,
   "metadata": {},
   "outputs": [],
   "source": [
    "with open('../test/data/Challenge_data.vcf') as vcf_fh:\n",
    "    vcf_reader = vcf.Reader(vcf_fh)\n",
    "    samples = vcf_reader.samples\n",
    "    df = pd.DataFrame(\n",
    "        data=[[site.genotype(sample) for sample in samples] for site in vcf_reader],\n",
    "        columns=samples)"
   ]
  },
  {
   "cell_type": "code",
   "execution_count": 4,
   "metadata": {},
   "outputs": [],
   "source": [
    "def xtab(func):\n",
    "    return pd.crosstab(**df.applymap(func).melt(var_name='columns', value_name='index'))"
   ]
  },
  {
   "cell_type": "code",
   "execution_count": 5,
   "metadata": {},
   "outputs": [
    {
     "data": {
      "text/html": [
       "<div>\n",
       "<style scoped>\n",
       "    .dataframe tbody tr th:only-of-type {\n",
       "        vertical-align: middle;\n",
       "    }\n",
       "\n",
       "    .dataframe tbody tr th {\n",
       "        vertical-align: top;\n",
       "    }\n",
       "\n",
       "    .dataframe thead th {\n",
       "        text-align: right;\n",
       "    }\n",
       "</style>\n",
       "<table border=\"1\" class=\"dataframe\">\n",
       "  <thead>\n",
       "    <tr style=\"text-align: right;\">\n",
       "      <th>columns</th>\n",
       "      <th>normal</th>\n",
       "      <th>vaf5</th>\n",
       "    </tr>\n",
       "    <tr>\n",
       "      <th>index</th>\n",
       "      <th></th>\n",
       "      <th></th>\n",
       "    </tr>\n",
       "  </thead>\n",
       "  <tbody>\n",
       "    <tr>\n",
       "      <th>True</th>\n",
       "      <td>6977</td>\n",
       "      <td>6977</td>\n",
       "    </tr>\n",
       "  </tbody>\n",
       "</table>\n",
       "</div>"
      ],
      "text/plain": [
       "columns  normal  vaf5\n",
       "index                \n",
       "True       6977  6977"
      ]
     },
     "execution_count": 5,
     "metadata": {},
     "output_type": "execute_result"
    }
   ],
   "source": [
    "# check pass/filter\n",
    "xtab(lambda gt: gt.site.FILTER is None)"
   ]
  },
  {
   "cell_type": "code",
   "execution_count": 6,
   "metadata": {},
   "outputs": [
    {
     "data": {
      "text/html": [
       "<div>\n",
       "<style scoped>\n",
       "    .dataframe tbody tr th:only-of-type {\n",
       "        vertical-align: middle;\n",
       "    }\n",
       "\n",
       "    .dataframe tbody tr th {\n",
       "        vertical-align: top;\n",
       "    }\n",
       "\n",
       "    .dataframe thead th {\n",
       "        text-align: right;\n",
       "    }\n",
       "</style>\n",
       "<table border=\"1\" class=\"dataframe\">\n",
       "  <thead>\n",
       "    <tr style=\"text-align: right;\">\n",
       "      <th>columns</th>\n",
       "      <th>normal</th>\n",
       "      <th>vaf5</th>\n",
       "    </tr>\n",
       "    <tr>\n",
       "      <th>index</th>\n",
       "      <th></th>\n",
       "      <th></th>\n",
       "    </tr>\n",
       "  </thead>\n",
       "  <tbody>\n",
       "    <tr>\n",
       "      <th>3</th>\n",
       "      <td>6977</td>\n",
       "      <td>6977</td>\n",
       "    </tr>\n",
       "  </tbody>\n",
       "</table>\n",
       "</div>"
      ],
      "text/plain": [
       "columns  normal  vaf5\n",
       "index                \n",
       "3          6977  6977"
      ]
     },
     "execution_count": 6,
     "metadata": {},
     "output_type": "execute_result"
    }
   ],
   "source": [
    "# check ploidy\n",
    "xtab(lambda gt: gt.ploidity)"
   ]
  },
  {
   "cell_type": "code",
   "execution_count": 7,
   "metadata": {},
   "outputs": [
    {
     "data": {
      "text/html": [
       "<div>\n",
       "<style scoped>\n",
       "    .dataframe tbody tr th:only-of-type {\n",
       "        vertical-align: middle;\n",
       "    }\n",
       "\n",
       "    .dataframe tbody tr th {\n",
       "        vertical-align: top;\n",
       "    }\n",
       "\n",
       "    .dataframe thead th {\n",
       "        text-align: right;\n",
       "    }\n",
       "</style>\n",
       "<table border=\"1\" class=\"dataframe\">\n",
       "  <thead>\n",
       "    <tr style=\"text-align: right;\">\n",
       "      <th>columns</th>\n",
       "      <th>normal</th>\n",
       "      <th>vaf5</th>\n",
       "    </tr>\n",
       "    <tr>\n",
       "      <th>index</th>\n",
       "      <th></th>\n",
       "      <th></th>\n",
       "    </tr>\n",
       "  </thead>\n",
       "  <tbody>\n",
       "    <tr>\n",
       "      <th>0/0/0</th>\n",
       "      <td>2119</td>\n",
       "      <td>2117</td>\n",
       "    </tr>\n",
       "    <tr>\n",
       "      <th>0/0/1</th>\n",
       "      <td>2642</td>\n",
       "      <td>2644</td>\n",
       "    </tr>\n",
       "    <tr>\n",
       "      <th>0/0/2</th>\n",
       "      <td>13</td>\n",
       "      <td>13</td>\n",
       "    </tr>\n",
       "    <tr>\n",
       "      <th>0/0/3</th>\n",
       "      <td>1</td>\n",
       "      <td>1</td>\n",
       "    </tr>\n",
       "    <tr>\n",
       "      <th>0/1/1</th>\n",
       "      <td>386</td>\n",
       "      <td>386</td>\n",
       "    </tr>\n",
       "    <tr>\n",
       "      <th>0/1/2</th>\n",
       "      <td>5</td>\n",
       "      <td>5</td>\n",
       "    </tr>\n",
       "    <tr>\n",
       "      <th>1/1/1</th>\n",
       "      <td>1788</td>\n",
       "      <td>1788</td>\n",
       "    </tr>\n",
       "    <tr>\n",
       "      <th>1/1/2</th>\n",
       "      <td>7</td>\n",
       "      <td>7</td>\n",
       "    </tr>\n",
       "    <tr>\n",
       "      <th>1/2/2</th>\n",
       "      <td>16</td>\n",
       "      <td>16</td>\n",
       "    </tr>\n",
       "  </tbody>\n",
       "</table>\n",
       "</div>"
      ],
      "text/plain": [
       "columns  normal  vaf5\n",
       "index                \n",
       "0/0/0      2119  2117\n",
       "0/0/1      2642  2644\n",
       "0/0/2        13    13\n",
       "0/0/3         1     1\n",
       "0/1/1       386   386\n",
       "0/1/2         5     5\n",
       "1/1/1      1788  1788\n",
       "1/1/2         7     7\n",
       "1/2/2        16    16"
      ]
     },
     "execution_count": 7,
     "metadata": {},
     "output_type": "execute_result"
    }
   ],
   "source": [
    "# check genotypes\n",
    "xtab(lambda gt: gt['GT'])"
   ]
  },
  {
   "cell_type": "code",
   "execution_count": 8,
   "metadata": {},
   "outputs": [
    {
     "data": {
      "text/plain": [
       "[snp]                             5376\n",
       "[del]                              704\n",
       "[ins]                              309\n",
       "[del, ins]                         308\n",
       "[complex]                           92\n",
       "[del, ins, snp]                     36\n",
       "[mnp]                               35\n",
       "[complex, snp]                      15\n",
       "[del, del, ins]                     13\n",
       "[ins, snp]                          13\n",
       "[del, ins, ins]                     13\n",
       "[del, del, ins, ins]                11\n",
       "[del, snp]                          10\n",
       "[del, del]                           6\n",
       "[ins, ins]                           6\n",
       "[del, del, ins, snp]                 3\n",
       "[complex, complex]                   3\n",
       "[mnp, snp]                           3\n",
       "[del, ins, ins, snp]                 2\n",
       "[complex, complex, snp]              2\n",
       "[complex, complex, del, ins]         2\n",
       "[del, del, ins, ins, ins]            2\n",
       "[del, del, del]                      2\n",
       "[del, ins, ins, snp, snp]            2\n",
       "[del, snp, snp]                      1\n",
       "[snp, snp]                           1\n",
       "[del, del, ins, ins, snp]            1\n",
       "[del, ins, ins, ins]                 1\n",
       "[del, del, del, del]                 1\n",
       "[complex, complex, ins, snp]         1\n",
       "[del, del, ins, ins, ins, ins]       1\n",
       "[del, del, del, ins, ins]            1\n",
       "[complex, del]                       1\n",
       "Name: normal, dtype: int64"
      ]
     },
     "execution_count": 8,
     "metadata": {},
     "output_type": "execute_result"
    }
   ],
   "source": [
    "# check variant types\n",
    "df.normal.apply(lambda gt: gt.site.INFO['TYPE']).value_counts()"
   ]
  },
  {
   "cell_type": "code",
   "execution_count": 9,
   "metadata": {},
   "outputs": [
    {
     "data": {
      "text/plain": [
       "ts         3799\n",
       "tv         1534\n",
       "del         706\n",
       "ins         477\n",
       "unknown     461\n",
       "Name: normal, dtype: int64"
      ]
     },
     "execution_count": 9,
     "metadata": {},
     "output_type": "execute_result"
    }
   ],
   "source": [
    "# check variant subtypes\n",
    "df.normal.apply(lambda gt: gt.site.var_subtype).value_counts()"
   ]
  },
  {
   "cell_type": "code",
   "execution_count": 10,
   "metadata": {},
   "outputs": [
    {
     "data": {
      "text/plain": [
       "1     0.097176\n",
       "6     0.069227\n",
       "17    0.060628\n",
       "12    0.058621\n",
       "2     0.058048\n",
       "5     0.056185\n",
       "7     0.055181\n",
       "3     0.053175\n",
       "11    0.052028\n",
       "19    0.049162\n",
       "8     0.041708\n",
       "9     0.040705\n",
       "16    0.040562\n",
       "4     0.038412\n",
       "14    0.038125\n",
       "13    0.033252\n",
       "10    0.031676\n",
       "X     0.028522\n",
       "22    0.022359\n",
       "20    0.021069\n",
       "15    0.020926\n",
       "18    0.017199\n",
       "21    0.016053\n",
       "Name: normal, dtype: float64"
      ]
     },
     "execution_count": 10,
     "metadata": {},
     "output_type": "execute_result"
    }
   ],
   "source": [
    "# check chrom distibution\n",
    "df.normal.apply(lambda gt: gt.site.CHROM).value_counts(normalize=True)"
   ]
  },
  {
   "cell_type": "code",
   "execution_count": 11,
   "metadata": {},
   "outputs": [
    {
     "data": {
      "text/html": [
       "<div>\n",
       "<style scoped>\n",
       "    .dataframe tbody tr th:only-of-type {\n",
       "        vertical-align: middle;\n",
       "    }\n",
       "\n",
       "    .dataframe tbody tr th {\n",
       "        vertical-align: top;\n",
       "    }\n",
       "\n",
       "    .dataframe thead th {\n",
       "        text-align: right;\n",
       "    }\n",
       "</style>\n",
       "<table border=\"1\" class=\"dataframe\">\n",
       "  <thead>\n",
       "    <tr style=\"text-align: right;\">\n",
       "      <th></th>\n",
       "      <th>normal</th>\n",
       "      <th>vaf5</th>\n",
       "    </tr>\n",
       "  </thead>\n",
       "  <tbody>\n",
       "    <tr>\n",
       "      <th>3280</th>\n",
       "      <td>Call(sample=normal, CallData(GT=0/0/0, GQ=160....</td>\n",
       "      <td>Call(sample=vaf5, CallData(GT=0/0/1, GQ=46.362...</td>\n",
       "    </tr>\n",
       "    <tr>\n",
       "      <th>3281</th>\n",
       "      <td>Call(sample=normal, CallData(GT=0/0/0, GQ=135....</td>\n",
       "      <td>Call(sample=vaf5, CallData(GT=0/0/1, GQ=-0.0, ...</td>\n",
       "    </tr>\n",
       "  </tbody>\n",
       "</table>\n",
       "</div>"
      ],
      "text/plain": [
       "                                                 normal  \\\n",
       "3280  Call(sample=normal, CallData(GT=0/0/0, GQ=160....   \n",
       "3281  Call(sample=normal, CallData(GT=0/0/0, GQ=135....   \n",
       "\n",
       "                                                   vaf5  \n",
       "3280  Call(sample=vaf5, CallData(GT=0/0/1, GQ=46.362...  \n",
       "3281  Call(sample=vaf5, CallData(GT=0/0/1, GQ=-0.0, ...  "
      ]
     },
     "execution_count": 11,
     "metadata": {},
     "output_type": "execute_result"
    }
   ],
   "source": [
    "# are genos always the same for normal and vaf5 ?\n",
    "df.loc[~df.apply(lambda r: r.normal['GT'] == r.vaf5['GT'], axis=1)]"
   ]
  },
  {
   "cell_type": "code",
   "execution_count": 12,
   "metadata": {},
   "outputs": [
    {
     "data": {
      "text/plain": [
       "1    5334\n",
       "Name: normal, dtype: int64"
      ]
     },
     "execution_count": 12,
     "metadata": {},
     "output_type": "execute_result"
    }
   ],
   "source": [
    "df.normal.loc[df.normal.apply(lambda gt: gt.site.is_snp)] \\\n",
    "    .apply(lambda gt: (gt.site.end - gt.site.start)) \\\n",
    "    .value_counts()"
   ]
  }
 ],
 "metadata": {
  "kernelspec": {
   "display_name": "Python 3",
   "language": "python",
   "name": "python3"
  },
  "language_info": {
   "codemirror_mode": {
    "name": "ipython",
    "version": 3
   },
   "file_extension": ".py",
   "mimetype": "text/x-python",
   "name": "python",
   "nbconvert_exporter": "python",
   "pygments_lexer": "ipython3",
   "version": "3.7.2"
  }
 },
 "nbformat": 4,
 "nbformat_minor": 2
}
