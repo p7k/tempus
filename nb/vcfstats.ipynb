{
 "cells": [
  {
   "cell_type": "code",
   "execution_count": 1,
   "metadata": {
    "pycharm": {
     "is_executing": false
    }
   },
   "outputs": [],
   "source": [
    "import vcf\n",
    "import pandas as pd"
   ]
  },
  {
   "cell_type": "code",
   "execution_count": 2,
   "metadata": {
    "pycharm": {
     "is_executing": false
    }
   },
   "outputs": [],
   "source": [
    "from more_itertools import take, one"
   ]
  },
  {
   "cell_type": "code",
   "execution_count": 3,
   "metadata": {
    "pycharm": {
     "is_executing": false
    }
   },
   "outputs": [],
   "source": [
    "import hgvs\n",
    "import hgvs.dataproviders.uta\n",
    "import hgvs.assemblymapper\n",
    "import hgvs.parser\n",
    "import hgvs.normalizer\n",
    "from hgvs.sequencevariant import SequenceVariant\n",
    "from hgvs.posedit import PosEdit\n",
    "from hgvs.edit import NARefAlt\n",
    "from hgvs.location import Interval, SimplePosition"
   ]
  },
  {
   "cell_type": "code",
   "execution_count": 4,
   "metadata": {
    "pycharm": {
     "is_executing": false
    }
   },
   "outputs": [],
   "source": [
    "with open('../test/data/Challenge_data.vcf') as vcf_fn:\n",
    "    vcf_reader = vcf.Reader(vcf_fn)\n",
    "    samples = vcf_reader.samples\n",
    "    df = pd.DataFrame(\n",
    "        data=[[site.genotype(sample) for sample in samples] for site in vcf_reader],\n",
    "        columns=samples)"
   ]
  },
  {
   "cell_type": "code",
   "execution_count": 5,
   "metadata": {
    "pycharm": {
     "is_executing": false
    }
   },
   "outputs": [],
   "source": [
    "METADATA_REFERENCE_TO_ASSEMBLY_NAME = {'/data/human_g1k_v37.fasta': 'GRCh37'}"
   ]
  },
  {
   "cell_type": "code",
   "execution_count": 6,
   "metadata": {
    "pycharm": {
     "is_executing": false
    }
   },
   "outputs": [],
   "source": [
    "HGVS_ASSEMBLY_NAME = METADATA_REFERENCE_TO_ASSEMBLY_NAME[vcf_reader.metadata['reference']]"
   ]
  },
  {
   "cell_type": "code",
   "execution_count": 22,
   "metadata": {
    "pycharm": {
     "is_executing": true
    }
   },
   "outputs": [],
   "source": [
    "HGVS_DATA_PROVIDER = hgvs.dataproviders.uta.connect()"
   ]
  },
  {
   "cell_type": "code",
   "execution_count": 23,
   "metadata": {
    "pycharm": {
     "is_executing": true
    }
   },
   "outputs": [],
   "source": [
    "HGVS_NORMALIZER = hgvs.normalizer.Normalizer(HGVS_DATA_PROVIDER)"
   ]
  },
  {
   "cell_type": "code",
   "execution_count": 138,
   "metadata": {
    "pycharm": {
     "is_executing": true
    }
   },
   "outputs": [],
   "source": [
    "HGVS_ASSEMBLY_MAPPER = hgvs.assemblymapper.AssemblyMapper(\n",
    "    hdp=HGVS_DATA_PROVIDER, assembly_name=HGVS_ASSEMBLY_NAME, alt_aln_method='splign', add_gene_symbol=True)"
   ]
  },
  {
   "cell_type": "code",
   "execution_count": 188,
   "metadata": {},
   "outputs": [
    {
     "data": {
      "text/plain": [
       "((10, 0),\n",
       " (11, 1),\n",
       " (12, 2),\n",
       " (13, 3),\n",
       " (14, 4),\n",
       " (15, 5),\n",
       " (16, 6),\n",
       " (17, 7),\n",
       " (18, 8),\n",
       " (19, 9))"
      ]
     },
     "execution_count": 188,
     "metadata": {},
     "output_type": "execute_result"
    }
   ],
   "source": [
    "tuple(enumerate(range(10), 10))"
   ]
  },
  {
   "cell_type": "code",
   "execution_count": 177,
   "metadata": {},
   "outputs": [],
   "source": [
    "from dataclasses import dataclass\n",
    "from typing import Optional"
   ]
  },
  {
   "cell_type": "code",
   "execution_count": 178,
   "metadata": {},
   "outputs": [],
   "source": [
    "@dataclass\n",
    "class Foo:\n",
    "    v: str\n",
    "    k: Optional[int]"
   ]
  },
  {
   "cell_type": "code",
   "execution_count": 183,
   "metadata": {},
   "outputs": [
    {
     "ename": "TypeError",
     "evalue": "'<' not supported between instances of 'int' and 'NoneType'",
     "output_type": "error",
     "traceback": [
      "\u001b[0;31m---------------------------------------------------------------------------\u001b[0m",
      "\u001b[0;31mTypeError\u001b[0m                                 Traceback (most recent call last)",
      "\u001b[0;32m<ipython-input-183-d7c1af7fff64>\u001b[0m in \u001b[0;36m<module>\u001b[0;34m()\u001b[0m\n\u001b[0;32m----> 1\u001b[0;31m \u001b[0msorted\u001b[0m\u001b[0;34m(\u001b[0m\u001b[0;34m[\u001b[0m\u001b[0mFoo\u001b[0m\u001b[0;34m(\u001b[0m\u001b[0;34m'a'\u001b[0m\u001b[0;34m,\u001b[0m \u001b[0;36m1\u001b[0m\u001b[0;34m)\u001b[0m\u001b[0;34m,\u001b[0m \u001b[0mFoo\u001b[0m\u001b[0;34m(\u001b[0m\u001b[0;34m'b'\u001b[0m\u001b[0;34m,\u001b[0m \u001b[0;36m2\u001b[0m\u001b[0;34m)\u001b[0m\u001b[0;34m,\u001b[0m \u001b[0mFoo\u001b[0m\u001b[0;34m(\u001b[0m\u001b[0;34m'c'\u001b[0m\u001b[0;34m,\u001b[0m \u001b[0;32mNone\u001b[0m\u001b[0;34m)\u001b[0m\u001b[0;34m]\u001b[0m\u001b[0;34m,\u001b[0m \u001b[0mkey\u001b[0m\u001b[0;34m=\u001b[0m\u001b[0;32mlambda\u001b[0m \u001b[0mfoo\u001b[0m\u001b[0;34m:\u001b[0m \u001b[0mfoo\u001b[0m\u001b[0;34m.\u001b[0m\u001b[0mk\u001b[0m\u001b[0;34m,\u001b[0m \u001b[0mreverse\u001b[0m\u001b[0;34m=\u001b[0m\u001b[0;32mTrue\u001b[0m\u001b[0;34m)\u001b[0m\u001b[0;34m\u001b[0m\u001b[0;34m\u001b[0m\u001b[0m\n\u001b[0m",
      "\u001b[0;31mTypeError\u001b[0m: '<' not supported between instances of 'int' and 'NoneType'"
     ]
    }
   ],
   "source": [
    "sorted([Foo('a', 1), Foo('b', 2), Foo('c', None)], key=lambda foo: foo.k, reverse=True)"
   ]
  },
  {
   "cell_type": "code",
   "execution_count": 139,
   "metadata": {
    "pycharm": {
     "is_executing": true
    }
   },
   "outputs": [
    {
     "data": {
      "text/plain": [
       "'GRCh37'"
      ]
     },
     "execution_count": 139,
     "metadata": {},
     "output_type": "execute_result"
    }
   ],
   "source": [
    "HGVS_ASSEMBLY_MAPPER.assembly_name"
   ]
  },
  {
   "cell_type": "code",
   "execution_count": 140,
   "metadata": {
    "pycharm": {
     "is_executing": true
    }
   },
   "outputs": [],
   "source": [
    "HGVS_CHROM_TO_ACCESSION = {\n",
    "    chrom: acc for acc, chrom in HGVS_DATA_PROVIDER.get_assembly_map(HGVS_ASSEMBLY_NAME).items()}"
   ]
  },
  {
   "cell_type": "code",
   "execution_count": 141,
   "metadata": {
    "pycharm": {
     "is_executing": true
    }
   },
   "outputs": [],
   "source": [
    "def locus_variants(locus: vcf.model._Record):\n",
    "    def alt_allele_hgvs_g(alt):\n",
    "        hgvs_g = SequenceVariant(ac=accession, type='g', posedit=PosEdit(\n",
    "            pos=Interval(start=SimplePosition(locus.POS), end=SimplePosition(locus.POS + len(ref) - 1)),\n",
    "            edit=NARefAlt(ref=ref, alt=alt.sequence)))\n",
    "        hgvs_g_norm = HGVS_NORMALIZER.normalize(hgvs_g)\n",
    "        return hgvs_g_norm\n",
    "            \n",
    "    accession = HGVS_CHROM_TO_ACCESSION[locus.CHROM]\n",
    "    ref = locus.alleles[0]\n",
    "            \n",
    "    return tuple(map(alt_allele_hgvs_g, locus.alleles[1:]))"
   ]
  },
  {
   "cell_type": "code",
   "execution_count": 142,
   "metadata": {
    "pycharm": {
     "is_executing": true
    }
   },
   "outputs": [],
   "source": [
    "def to_hgvs_c(hgvs_g):\n",
    "    transcripts_coding = (\n",
    "        tx for tx in HGVS_ASSEMBLY_MAPPER.relevant_transcripts(hgvs_g)\n",
    "        if tx.startswith('NM'))\n",
    "    return tuple(HGVS_ASSEMBLY_MAPPER.g_to_c(hgvs_g, tx) for tx in transcripts_coding)"
   ]
  },
  {
   "cell_type": "code",
   "execution_count": 285,
   "metadata": {
    "pycharm": {
     "is_executing": true
    }
   },
   "outputs": [
    {
     "name": "stdout",
     "output_type": "stream",
     "text": [
      "Record(CHROM=1, POS=1277533, REF=T, ALT=[C])\n",
      "Call(sample=normal, CallData(GT=1/1/1, GQ=160.002, DP=393, DPR=[393, 393], RO=0, QR=0, AO=393, QA=15766))\n"
     ]
    }
   ],
   "source": [
    "# call = df.loc[\n",
    "#     df.normal.apply(lambda call: set(call.site.INFO['TYPE']).issuperset({'ins', 'del'}))\n",
    "# ].iloc[0].normal\n",
    "\n",
    "call = df.iloc[2].normal\n",
    "\n",
    "print(call.site)\n",
    "print(call)"
   ]
  },
  {
   "cell_type": "code",
   "execution_count": 287,
   "metadata": {},
   "outputs": [
    {
     "data": {
      "text/plain": [
       "[0.0]"
      ]
     },
     "execution_count": 287,
     "metadata": {},
     "output_type": "execute_result"
    }
   ],
   "source": [
    "call.site.INFO['DPRA']"
   ]
  },
  {
   "cell_type": "code",
   "execution_count": 283,
   "metadata": {},
   "outputs": [
    {
     "ename": "AttributeError",
     "evalue": "'CallData' object has no attribute 'DPRA'",
     "output_type": "error",
     "traceback": [
      "\u001b[0;31m---------------------------------------------------------------------------\u001b[0m",
      "\u001b[0;31mAttributeError\u001b[0m                            Traceback (most recent call last)",
      "\u001b[0;32m<ipython-input-283-7590310a4d8d>\u001b[0m in \u001b[0;36m<module>\u001b[0;34m()\u001b[0m\n\u001b[0;32m----> 1\u001b[0;31m \u001b[0msum\u001b[0m\u001b[0;34m(\u001b[0m\u001b[0ms\u001b[0m\u001b[0;34m.\u001b[0m\u001b[0mdata\u001b[0m\u001b[0;34m.\u001b[0m\u001b[0mDPRA\u001b[0m \u001b[0;32mfor\u001b[0m \u001b[0ms\u001b[0m \u001b[0;32min\u001b[0m \u001b[0mcall\u001b[0m\u001b[0;34m.\u001b[0m\u001b[0msite\u001b[0m\u001b[0;34m.\u001b[0m\u001b[0msamples\u001b[0m\u001b[0;34m)\u001b[0m\u001b[0;34m\u001b[0m\u001b[0;34m\u001b[0m\u001b[0m\n\u001b[0m",
      "\u001b[0;32m<ipython-input-283-7590310a4d8d>\u001b[0m in \u001b[0;36m<genexpr>\u001b[0;34m(.0)\u001b[0m\n\u001b[0;32m----> 1\u001b[0;31m \u001b[0msum\u001b[0m\u001b[0;34m(\u001b[0m\u001b[0ms\u001b[0m\u001b[0;34m.\u001b[0m\u001b[0mdata\u001b[0m\u001b[0;34m.\u001b[0m\u001b[0mDPRA\u001b[0m \u001b[0;32mfor\u001b[0m \u001b[0ms\u001b[0m \u001b[0;32min\u001b[0m \u001b[0mcall\u001b[0m\u001b[0;34m.\u001b[0m\u001b[0msite\u001b[0m\u001b[0;34m.\u001b[0m\u001b[0msamples\u001b[0m\u001b[0;34m)\u001b[0m\u001b[0;34m\u001b[0m\u001b[0;34m\u001b[0m\u001b[0m\n\u001b[0m",
      "\u001b[0;31mAttributeError\u001b[0m: 'CallData' object has no attribute 'DPRA'"
     ]
    }
   ],
   "source": [
    "sum(s.data.DPRA for s in call.site.samples)"
   ]
  },
  {
   "cell_type": "code",
   "execution_count": 280,
   "metadata": {},
   "outputs": [
    {
     "data": {
      "text/plain": [
       "OrderedDict([('NS',\n",
       "              Info(id='NS', num=1, type='Integer', desc='Number of samples with data', source=None, version=None)),\n",
       "             ('DP',\n",
       "              Info(id='DP', num=1, type='Integer', desc='Total read depth at the locus', source=None, version=None)),\n",
       "             ('DPB',\n",
       "              Info(id='DPB', num=1, type='Float', desc='Total read depth per bp at the locus; bases in reads overlapping / bases in haplotype', source=None, version=None)),\n",
       "             ('AC',\n",
       "              Info(id='AC', num=-1, type='Integer', desc='Total number of alternate alleles in called genotypes', source=None, version=None)),\n",
       "             ('AN',\n",
       "              Info(id='AN', num=1, type='Integer', desc='Total number of alleles in called genotypes', source=None, version=None)),\n",
       "             ('AF',\n",
       "              Info(id='AF', num=-1, type='Float', desc='Estimated allele frequency in the range (0,1]', source=None, version=None)),\n",
       "             ('RO',\n",
       "              Info(id='RO', num=1, type='Integer', desc='Reference allele observation count, with partial observations recorded fractionally', source=None, version=None)),\n",
       "             ('AO',\n",
       "              Info(id='AO', num=-1, type='Integer', desc='Alternate allele observations, with partial observations recorded fractionally', source=None, version=None)),\n",
       "             ('PRO',\n",
       "              Info(id='PRO', num=1, type='Float', desc='Reference allele observation count, with partial observations recorded fractionally', source=None, version=None)),\n",
       "             ('PAO',\n",
       "              Info(id='PAO', num=-1, type='Float', desc='Alternate allele observations, with partial observations recorded fractionally', source=None, version=None)),\n",
       "             ('QR',\n",
       "              Info(id='QR', num=1, type='Integer', desc='Reference allele quality sum in phred', source=None, version=None)),\n",
       "             ('QA',\n",
       "              Info(id='QA', num=-1, type='Integer', desc='Alternate allele quality sum in phred', source=None, version=None)),\n",
       "             ('PQR',\n",
       "              Info(id='PQR', num=1, type='Float', desc='Reference allele quality sum in phred for partial observations', source=None, version=None)),\n",
       "             ('PQA',\n",
       "              Info(id='PQA', num=-1, type='Float', desc='Alternate allele quality sum in phred for partial observations', source=None, version=None)),\n",
       "             ('SRF',\n",
       "              Info(id='SRF', num=1, type='Integer', desc='Number of reference observations on the forward strand', source=None, version=None)),\n",
       "             ('SRR',\n",
       "              Info(id='SRR', num=1, type='Integer', desc='Number of reference observations on the reverse strand', source=None, version=None)),\n",
       "             ('SAF',\n",
       "              Info(id='SAF', num=-1, type='Integer', desc='Number of alternate observations on the forward strand', source=None, version=None)),\n",
       "             ('SAR',\n",
       "              Info(id='SAR', num=-1, type='Integer', desc='Number of alternate observations on the reverse strand', source=None, version=None)),\n",
       "             ('SRP',\n",
       "              Info(id='SRP', num=1, type='Float', desc=\"Strand balance probability for the reference allele: Phred-scaled upper-bounds estimate of the probability of observing the deviation between SRF and SRR given E(SRF/SRR) ~ 0.5, derived using Hoeffding's inequality\", source=None, version=None)),\n",
       "             ('SAP',\n",
       "              Info(id='SAP', num=-1, type='Float', desc=\"Strand balance probability for the alternate allele: Phred-scaled upper-bounds estimate of the probability of observing the deviation between SAF and SAR given E(SAF/SAR) ~ 0.5, derived using Hoeffding's inequality\", source=None, version=None)),\n",
       "             ('AB',\n",
       "              Info(id='AB', num=-1, type='Float', desc='Allele balance at heterozygous sites: a number between 0 and 1 representing the ratio of reads showing the reference allele to all reads, considering only reads from individuals called as heterozygous', source=None, version=None)),\n",
       "             ('ABP',\n",
       "              Info(id='ABP', num=-1, type='Float', desc=\"Allele balance probability at heterozygous sites: Phred-scaled upper-bounds estimate of the probability of observing the deviation between ABR and ABA given E(ABR/ABA) ~ 0.5, derived using Hoeffding's inequality\", source=None, version=None)),\n",
       "             ('RUN',\n",
       "              Info(id='RUN', num=-1, type='Integer', desc='Run length: the number of consecutive repeats of the alternate allele in the reference genome', source=None, version=None)),\n",
       "             ('RPP',\n",
       "              Info(id='RPP', num=-1, type='Float', desc=\"Read Placement Probability: Phred-scaled upper-bounds estimate of the probability of observing the deviation between RPL and RPR given E(RPL/RPR) ~ 0.5, derived using Hoeffding's inequality\", source=None, version=None)),\n",
       "             ('RPPR',\n",
       "              Info(id='RPPR', num=1, type='Float', desc=\"Read Placement Probability for reference observations: Phred-scaled upper-bounds estimate of the probability of observing the deviation between RPL and RPR given E(RPL/RPR) ~ 0.5, derived using Hoeffding's inequality\", source=None, version=None)),\n",
       "             ('RPL',\n",
       "              Info(id='RPL', num=-1, type='Float', desc=\"Reads Placed Left: number of reads supporting the alternate balanced to the left (5') of the alternate allele\", source=None, version=None)),\n",
       "             ('RPR',\n",
       "              Info(id='RPR', num=-1, type='Float', desc=\"Reads Placed Right: number of reads supporting the alternate balanced to the right (3') of the alternate allele\", source=None, version=None)),\n",
       "             ('EPP',\n",
       "              Info(id='EPP', num=-1, type='Float', desc=\"End Placement Probability: Phred-scaled upper-bounds estimate of the probability of observing the deviation between EL and ER given E(EL/ER) ~ 0.5, derived using Hoeffding's inequality\", source=None, version=None)),\n",
       "             ('EPPR',\n",
       "              Info(id='EPPR', num=1, type='Float', desc=\"End Placement Probability for reference observations: Phred-scaled upper-bounds estimate of the probability of observing the deviation between EL and ER given E(EL/ER) ~ 0.5, derived using Hoeffding's inequality\", source=None, version=None)),\n",
       "             ('DPRA',\n",
       "              Info(id='DPRA', num=-1, type='Float', desc='Alternate allele depth ratio.  Ratio between depth in samples with each called alternate allele and those without.', source=None, version=None)),\n",
       "             ('ODDS',\n",
       "              Info(id='ODDS', num=1, type='Float', desc='The log odds ratio of the best genotype combination to the second-best.', source=None, version=None)),\n",
       "             ('GTI',\n",
       "              Info(id='GTI', num=1, type='Integer', desc='Number of genotyping iterations required to reach convergence or bailout.', source=None, version=None)),\n",
       "             ('TYPE',\n",
       "              Info(id='TYPE', num=-1, type='String', desc='The type of allele, either snp, mnp, ins, del, or complex.', source=None, version=None)),\n",
       "             ('CIGAR',\n",
       "              Info(id='CIGAR', num=-1, type='String', desc=\"The extended CIGAR representation of each alternate allele, with the exception that '=' is replaced by 'M' to ease VCF parsing.  Note that INDEL alleles do not have the first matched base (which is provided by default, per the spec) referred to by the CIGAR.\", source=None, version=None)),\n",
       "             ('NUMALT',\n",
       "              Info(id='NUMALT', num=1, type='Integer', desc='Number of unique non-reference alleles in called genotypes at this position.', source=None, version=None)),\n",
       "             ('MEANALT',\n",
       "              Info(id='MEANALT', num=-1, type='Float', desc='Mean number of unique non-reference allele observations per sample with the corresponding alternate alleles.', source=None, version=None)),\n",
       "             ('LEN',\n",
       "              Info(id='LEN', num=-1, type='Integer', desc='allele length', source=None, version=None)),\n",
       "             ('MQM',\n",
       "              Info(id='MQM', num=-1, type='Float', desc='Mean mapping quality of observed alternate alleles', source=None, version=None)),\n",
       "             ('MQMR',\n",
       "              Info(id='MQMR', num=1, type='Float', desc='Mean mapping quality of observed reference alleles', source=None, version=None)),\n",
       "             ('PAIRED',\n",
       "              Info(id='PAIRED', num=-1, type='Float', desc='Proportion of observed alternate alleles which are supported by properly paired read fragments', source=None, version=None)),\n",
       "             ('PAIREDR',\n",
       "              Info(id='PAIREDR', num=1, type='Float', desc='Proportion of observed reference alleles which are supported by properly paired read fragments', source=None, version=None)),\n",
       "             ('MIN_DP',\n",
       "              Info(id='MIN_DP', num=1, type='Integer', desc='Minimum depth in gVCF output block.', source=None, version=None)),\n",
       "             ('END',\n",
       "              Info(id='END', num=1, type='Integer', desc='Last position (inclusive) in gVCF output record.', source=None, version=None))])"
      ]
     },
     "execution_count": 280,
     "metadata": {},
     "output_type": "execute_result"
    }
   ],
   "source": [
    "vcf_reader.infos"
   ]
  },
  {
   "cell_type": "code",
   "execution_count": 144,
   "metadata": {
    "pycharm": {
     "is_executing": true
    }
   },
   "outputs": [],
   "source": [
    "import requests"
   ]
  },
  {
   "cell_type": "code",
   "execution_count": 190,
   "metadata": {
    "pycharm": {
     "is_executing": true
    }
   },
   "outputs": [
    {
     "name": "stdout",
     "output_type": "stream",
     "text": [
      "http://exac.hms.harvard.edu/rest/variant/1-935222-C-A\n"
     ]
    }
   ],
   "source": [
    "var = f'{call.site.CHROM}-{call.site.POS}-{call.site.REF}-{call.site.ALT[0]}'\n",
    "url = f'http://exac.hms.harvard.edu/rest/variant/{var}'\n",
    "print(url)\n",
    "data = requests.get(url).json()"
   ]
  },
  {
   "cell_type": "code",
   "execution_count": 192,
   "metadata": {},
   "outputs": [
    {
     "data": {
      "text/plain": [
       "<function dict.keys>"
      ]
     },
     "execution_count": 192,
     "metadata": {},
     "output_type": "execute_result"
    }
   ],
   "source": [
    "data.keys"
   ]
  },
  {
   "cell_type": "code",
   "execution_count": 146,
   "metadata": {
    "pycharm": {
     "is_executing": true
    }
   },
   "outputs": [
    {
     "name": "stdout",
     "output_type": "stream",
     "text": [
      "['snp']\n"
     ]
    },
    {
     "data": {
      "text/plain": [
       "(SequenceVariant(ac=NC_000001.10, type=g, posedit=935222C>A, gene=None),)"
      ]
     },
     "execution_count": 146,
     "metadata": {},
     "output_type": "execute_result"
    }
   ],
   "source": [
    "print(call.site.INFO['TYPE'])\n",
    "hgvs_g_vars = tuple(locus_variants(call.site))\n",
    "hgvs_g_vars"
   ]
  },
  {
   "cell_type": "code",
   "execution_count": 147,
   "metadata": {
    "pycharm": {
     "is_executing": true
    }
   },
   "outputs": [
    {
     "data": {
      "text/plain": [
       "'sub'"
      ]
     },
     "execution_count": 147,
     "metadata": {},
     "output_type": "execute_result"
    }
   ],
   "source": [
    "# this is how we should get edit type\n",
    "hgvs_g_vars[0].posedit.edit.type"
   ]
  },
  {
   "cell_type": "code",
   "execution_count": 151,
   "metadata": {
    "pycharm": {
     "is_executing": true
    }
   },
   "outputs": [
    {
     "name": "stderr",
     "output_type": "stream",
     "text": [
      "Normalization of intronic variants is not supported; returning unnormalized variant\n"
     ]
    },
    {
     "data": {
      "text/plain": [
       "((SequenceVariant(ac=NM_001142467.1, type=c, posedit=132G>T, gene=None),\n",
       "  SequenceVariant(ac=NM_021170.3, type=c, posedit=108+24G>T, gene=HES4)),)"
      ]
     },
     "execution_count": 151,
     "metadata": {},
     "output_type": "execute_result"
    }
   ],
   "source": [
    "hgvs_c_vars = tuple(map(to_hgvs_c, hgvs_g_vars))\n",
    "hgvs_c_vars"
   ]
  },
  {
   "cell_type": "code",
   "execution_count": 163,
   "metadata": {
    "pycharm": {
     "is_executing": true
    }
   },
   "outputs": [
    {
     "data": {
      "text/plain": [
       "False"
      ]
     },
     "execution_count": 163,
     "metadata": {},
     "output_type": "execute_result"
    }
   ],
   "source": [
    "# this is how we can get intronic\n",
    "hgvs_c_vars[0][0].posedit.pos.start.is_intronic"
   ]
  },
  {
   "cell_type": "code",
   "execution_count": 166,
   "metadata": {
    "pycharm": {
     "is_executing": true
    }
   },
   "outputs": [],
   "source": [
    "hgvs_c = hgvs_c_vars[0][1]"
   ]
  },
  {
   "cell_type": "code",
   "execution_count": 170,
   "metadata": {},
   "outputs": [],
   "source": [
    "HGVS_ASSEMBLY_MAPPER.add_gene_symbol = False"
   ]
  },
  {
   "cell_type": "code",
   "execution_count": 171,
   "metadata": {
    "pycharm": {
     "is_executing": true
    }
   },
   "outputs": [
    {
     "name": "stdout",
     "output_type": "stream",
     "text": [
      "> \u001b[0;32m/Users/pkatsev/src/tempus/venv/lib/python3.7/site-packages/hgvs/dataproviders/uta.py\u001b[0m(362)\u001b[0;36mget_tx_identity_info\u001b[0;34m()\u001b[0m\n",
      "\u001b[0;32m    360 \u001b[0;31m        \u001b[0;32mif\u001b[0m \u001b[0mlen\u001b[0m\u001b[0;34m(\u001b[0m\u001b[0mrows\u001b[0m\u001b[0;34m)\u001b[0m \u001b[0;34m==\u001b[0m \u001b[0;36m0\u001b[0m\u001b[0;34m:\u001b[0m\u001b[0;34m\u001b[0m\u001b[0;34m\u001b[0m\u001b[0m\n",
      "\u001b[0m\u001b[0;32m    361 \u001b[0;31m            raise HGVSDataNotAvailableError(\n",
      "\u001b[0m\u001b[0;32m--> 362 \u001b[0;31m                \"No transcript definition for (tx_ac={tx_ac})\".format(tx_ac=tx_ac))\n",
      "\u001b[0m\u001b[0;32m    363 \u001b[0;31m        \u001b[0;32mreturn\u001b[0m \u001b[0mrows\u001b[0m\u001b[0;34m[\u001b[0m\u001b[0;36m0\u001b[0m\u001b[0;34m]\u001b[0m\u001b[0;34m\u001b[0m\u001b[0;34m\u001b[0m\u001b[0m\n",
      "\u001b[0m\u001b[0;32m    364 \u001b[0;31m\u001b[0;34m\u001b[0m\u001b[0m\n",
      "\u001b[0m\n",
      "ipdb> c\n"
     ]
    },
    {
     "data": {
      "text/plain": [
       "((SequenceVariant(ac=NP_001135939.1, type=p, posedit=(Arg44Ser), gene=None),\n",
       "  SequenceVariant(ac=NP_066993.1, type=p, posedit=None, gene=None)),)"
      ]
     },
     "execution_count": 171,
     "metadata": {},
     "output_type": "execute_result"
    }
   ],
   "source": [
    "%debug\n",
    "hgvs_p_vars = tuple(\n",
    "    tuple(HGVS_ASSEMBLY_MAPPER.c_to_p(hgvs_c) for hgvs_c in alt_hgvs_cs)\n",
    "    for alt_hgvs_cs in hgvs_c_vars)\n",
    "hgvs_p_vars"
   ]
  },
  {
   "cell_type": "code",
   "execution_count": 136,
   "metadata": {
    "pycharm": {
     "is_executing": true
    }
   },
   "outputs": [
    {
     "data": {
      "text/plain": [
       "'sub'"
      ]
     },
     "execution_count": 136,
     "metadata": {},
     "output_type": "execute_result"
    }
   ],
   "source": [
    "# synonimous\n",
    "hgvs_p_vars[0][0].posedit.edit.type"
   ]
  },
  {
   "cell_type": "code",
   "execution_count": 137,
   "metadata": {},
   "outputs": [
    {
     "data": {
      "text/plain": [
       "False"
      ]
     },
     "execution_count": 137,
     "metadata": {},
     "output_type": "execute_result"
    }
   ],
   "source": [
    "HGVS_ASSEMBLY_MAPPER.add_gene_symbol"
   ]
  },
  {
   "cell_type": "code",
   "execution_count": 104,
   "metadata": {
    "pycharm": {
     "is_executing": true
    }
   },
   "outputs": [],
   "source": [
    "hgvs_g = hgvs_g_vars[0]"
   ]
  },
  {
   "cell_type": "code",
   "execution_count": 113,
   "metadata": {},
   "outputs": [
    {
     "data": {
      "text/plain": [
       "0"
      ]
     },
     "execution_count": 113,
     "metadata": {},
     "output_type": "execute_result"
    }
   ],
   "source": [
    "hgvs_g.posedit.length_change()"
   ]
  },
  {
   "cell_type": "code",
   "execution_count": 40,
   "metadata": {
    "pycharm": {
     "is_executing": true
    }
   },
   "outputs": [
    {
     "data": {
      "text/plain": [
       "[['NM_021170.3', 'NC_000001.10', -1, 'splign', 934341, 935552]]"
      ]
     },
     "execution_count": 40,
     "metadata": {},
     "output_type": "execute_result"
    }
   ],
   "source": [
    "HGVS_DATA_PROVIDER.get_tx_for_region('NC_000001.10', 'splign', 934342, 935552)\n",
    "# HGVS_DATA_PROVIDER.get_tx_for_region('NC_000001.10', 'splign', 931393 - 7000, 931393 + 7000)"
   ]
  },
  {
   "cell_type": "code",
   "execution_count": null,
   "metadata": {
    "pycharm": {
     "is_executing": true
    }
   },
   "outputs": [],
   "source": []
  },
  {
   "cell_type": "code",
   "execution_count": null,
   "metadata": {
    "pycharm": {
     "is_executing": true
    }
   },
   "outputs": [],
   "source": []
  },
  {
   "cell_type": "code",
   "execution_count": null,
   "metadata": {
    "pycharm": {
     "is_executing": true
    }
   },
   "outputs": [],
   "source": []
  },
  {
   "cell_type": "code",
   "execution_count": 41,
   "metadata": {
    "pycharm": {
     "is_executing": true
    },
    "scrolled": false
   },
   "outputs": [],
   "source": [
    "def xtab(func):\n",
    "    return pd.crosstab(**df.applymap(func).melt(var_name='columns', value_name='index'))"
   ]
  },
  {
   "cell_type": "code",
   "execution_count": 42,
   "metadata": {
    "pycharm": {
     "is_executing": true
    }
   },
   "outputs": [
    {
     "data": {
      "text/html": [
       "<div>\n",
       "<style scoped>\n",
       "    .dataframe tbody tr th:only-of-type {\n",
       "        vertical-align: middle;\n",
       "    }\n",
       "\n",
       "    .dataframe tbody tr th {\n",
       "        vertical-align: top;\n",
       "    }\n",
       "\n",
       "    .dataframe thead th {\n",
       "        text-align: right;\n",
       "    }\n",
       "</style>\n",
       "<table border=\"1\" class=\"dataframe\">\n",
       "  <thead>\n",
       "    <tr style=\"text-align: right;\">\n",
       "      <th>columns</th>\n",
       "      <th>normal</th>\n",
       "      <th>vaf5</th>\n",
       "    </tr>\n",
       "    <tr>\n",
       "      <th>index</th>\n",
       "      <th></th>\n",
       "      <th></th>\n",
       "    </tr>\n",
       "  </thead>\n",
       "  <tbody>\n",
       "    <tr>\n",
       "      <th>True</th>\n",
       "      <td>6977</td>\n",
       "      <td>6977</td>\n",
       "    </tr>\n",
       "  </tbody>\n",
       "</table>\n",
       "</div>"
      ],
      "text/plain": [
       "columns  normal  vaf5\n",
       "index                \n",
       "True       6977  6977"
      ]
     },
     "execution_count": 42,
     "metadata": {},
     "output_type": "execute_result"
    }
   ],
   "source": [
    "# check pass/filter\n",
    "xtab(lambda gt: gt.site.FILTER is None)"
   ]
  },
  {
   "cell_type": "code",
   "execution_count": 43,
   "metadata": {
    "pycharm": {
     "is_executing": true
    }
   },
   "outputs": [
    {
     "data": {
      "text/plain": [
       "7569"
      ]
     },
     "execution_count": 43,
     "metadata": {},
     "output_type": "execute_result"
    }
   ],
   "source": [
    "# total number of variants (all passed filters)\n",
    "df.normal.apply(lambda gt: len(gt.site.ALT)).sum()"
   ]
  },
  {
   "cell_type": "code",
   "execution_count": 44,
   "metadata": {
    "pycharm": {
     "is_executing": true
    }
   },
   "outputs": [
    {
     "data": {
      "text/html": [
       "<div>\n",
       "<style scoped>\n",
       "    .dataframe tbody tr th:only-of-type {\n",
       "        vertical-align: middle;\n",
       "    }\n",
       "\n",
       "    .dataframe tbody tr th {\n",
       "        vertical-align: top;\n",
       "    }\n",
       "\n",
       "    .dataframe thead th {\n",
       "        text-align: right;\n",
       "    }\n",
       "</style>\n",
       "<table border=\"1\" class=\"dataframe\">\n",
       "  <thead>\n",
       "    <tr style=\"text-align: right;\">\n",
       "      <th>columns</th>\n",
       "      <th>normal</th>\n",
       "      <th>vaf5</th>\n",
       "    </tr>\n",
       "    <tr>\n",
       "      <th>index</th>\n",
       "      <th></th>\n",
       "      <th></th>\n",
       "    </tr>\n",
       "  </thead>\n",
       "  <tbody>\n",
       "    <tr>\n",
       "      <th>3</th>\n",
       "      <td>6977</td>\n",
       "      <td>6977</td>\n",
       "    </tr>\n",
       "  </tbody>\n",
       "</table>\n",
       "</div>"
      ],
      "text/plain": [
       "columns  normal  vaf5\n",
       "index                \n",
       "3          6977  6977"
      ]
     },
     "execution_count": 44,
     "metadata": {},
     "output_type": "execute_result"
    }
   ],
   "source": [
    "# check ploidy\n",
    "xtab(lambda gt: gt.ploidity)"
   ]
  },
  {
   "cell_type": "code",
   "execution_count": 45,
   "metadata": {
    "pycharm": {
     "is_executing": true
    }
   },
   "outputs": [
    {
     "data": {
      "text/html": [
       "<div>\n",
       "<style scoped>\n",
       "    .dataframe tbody tr th:only-of-type {\n",
       "        vertical-align: middle;\n",
       "    }\n",
       "\n",
       "    .dataframe tbody tr th {\n",
       "        vertical-align: top;\n",
       "    }\n",
       "\n",
       "    .dataframe thead th {\n",
       "        text-align: right;\n",
       "    }\n",
       "</style>\n",
       "<table border=\"1\" class=\"dataframe\">\n",
       "  <thead>\n",
       "    <tr style=\"text-align: right;\">\n",
       "      <th>columns</th>\n",
       "      <th>normal</th>\n",
       "      <th>vaf5</th>\n",
       "    </tr>\n",
       "    <tr>\n",
       "      <th>index</th>\n",
       "      <th></th>\n",
       "      <th></th>\n",
       "    </tr>\n",
       "  </thead>\n",
       "  <tbody>\n",
       "    <tr>\n",
       "      <th>0/0/0</th>\n",
       "      <td>2119</td>\n",
       "      <td>2117</td>\n",
       "    </tr>\n",
       "    <tr>\n",
       "      <th>0/0/1</th>\n",
       "      <td>2642</td>\n",
       "      <td>2644</td>\n",
       "    </tr>\n",
       "    <tr>\n",
       "      <th>0/0/2</th>\n",
       "      <td>13</td>\n",
       "      <td>13</td>\n",
       "    </tr>\n",
       "    <tr>\n",
       "      <th>0/0/3</th>\n",
       "      <td>1</td>\n",
       "      <td>1</td>\n",
       "    </tr>\n",
       "    <tr>\n",
       "      <th>0/1/1</th>\n",
       "      <td>386</td>\n",
       "      <td>386</td>\n",
       "    </tr>\n",
       "    <tr>\n",
       "      <th>0/1/2</th>\n",
       "      <td>5</td>\n",
       "      <td>5</td>\n",
       "    </tr>\n",
       "    <tr>\n",
       "      <th>1/1/1</th>\n",
       "      <td>1788</td>\n",
       "      <td>1788</td>\n",
       "    </tr>\n",
       "    <tr>\n",
       "      <th>1/1/2</th>\n",
       "      <td>7</td>\n",
       "      <td>7</td>\n",
       "    </tr>\n",
       "    <tr>\n",
       "      <th>1/2/2</th>\n",
       "      <td>16</td>\n",
       "      <td>16</td>\n",
       "    </tr>\n",
       "  </tbody>\n",
       "</table>\n",
       "</div>"
      ],
      "text/plain": [
       "columns  normal  vaf5\n",
       "index                \n",
       "0/0/0      2119  2117\n",
       "0/0/1      2642  2644\n",
       "0/0/2        13    13\n",
       "0/0/3         1     1\n",
       "0/1/1       386   386\n",
       "0/1/2         5     5\n",
       "1/1/1      1788  1788\n",
       "1/1/2         7     7\n",
       "1/2/2        16    16"
      ]
     },
     "execution_count": 45,
     "metadata": {},
     "output_type": "execute_result"
    }
   ],
   "source": [
    "# check genotypes\n",
    "xtab(lambda gt: gt['GT'])"
   ]
  },
  {
   "cell_type": "code",
   "execution_count": 46,
   "metadata": {
    "pycharm": {
     "is_executing": true
    }
   },
   "outputs": [
    {
     "data": {
      "text/plain": [
       "[snp]                             5376\n",
       "[del]                              704\n",
       "[ins]                              309\n",
       "[del, ins]                         308\n",
       "[complex]                           92\n",
       "[del, ins, snp]                     36\n",
       "[mnp]                               35\n",
       "[complex, snp]                      15\n",
       "[del, del, ins]                     13\n",
       "[ins, snp]                          13\n",
       "[del, ins, ins]                     13\n",
       "[del, del, ins, ins]                11\n",
       "[del, snp]                          10\n",
       "[del, del]                           6\n",
       "[ins, ins]                           6\n",
       "[del, del, ins, snp]                 3\n",
       "[complex, complex]                   3\n",
       "[mnp, snp]                           3\n",
       "[del, ins, ins, snp]                 2\n",
       "[complex, complex, snp]              2\n",
       "[complex, complex, del, ins]         2\n",
       "[del, del, ins, ins, ins]            2\n",
       "[del, del, del]                      2\n",
       "[del, ins, ins, snp, snp]            2\n",
       "[del, snp, snp]                      1\n",
       "[snp, snp]                           1\n",
       "[del, del, ins, ins, snp]            1\n",
       "[del, ins, ins, ins]                 1\n",
       "[del, del, del, del]                 1\n",
       "[complex, complex, ins, snp]         1\n",
       "[del, del, ins, ins, ins, ins]       1\n",
       "[del, del, del, ins, ins]            1\n",
       "[complex, del]                       1\n",
       "Name: normal, dtype: int64"
      ]
     },
     "execution_count": 46,
     "metadata": {},
     "output_type": "execute_result"
    }
   ],
   "source": [
    "# check variant types\n",
    "df.normal.apply(lambda gt: gt.site.INFO['TYPE']).value_counts()"
   ]
  },
  {
   "cell_type": "code",
   "execution_count": 47,
   "metadata": {
    "pycharm": {
     "is_executing": true
    }
   },
   "outputs": [
    {
     "data": {
      "text/plain": [
       "[SNV]                             5333\n",
       "[MNV]                             1183\n",
       "[MNV, MNV]                         365\n",
       "[MNV, MNV, MNV]                     67\n",
       "[MNV, MNV, MNV, MNV]                21\n",
       "[MNV, MNV, MNV, MNV, MNV]            6\n",
       "[MNV, MNV, MNV, MNV, MNV, MNV]       1\n",
       "[SNV, SNV]                           1\n",
       "Name: normal, dtype: int64"
      ]
     },
     "execution_count": 47,
     "metadata": {},
     "output_type": "execute_result"
    }
   ],
   "source": [
    "# check variant types\n",
    "df.normal.apply(lambda gt: [alt.type for alt in gt.site.ALT]).value_counts()"
   ]
  },
  {
   "cell_type": "code",
   "execution_count": 48,
   "metadata": {
    "pycharm": {
     "is_executing": true
    }
   },
   "outputs": [
    {
     "data": {
      "text/plain": [
       "snp      5334\n",
       "indel    1643\n",
       "Name: normal, dtype: int64"
      ]
     },
     "execution_count": 48,
     "metadata": {},
     "output_type": "execute_result"
    }
   ],
   "source": [
    "# check variant types\n",
    "df.normal.apply(lambda gt: gt.site.var_type).value_counts()"
   ]
  },
  {
   "cell_type": "code",
   "execution_count": 49,
   "metadata": {
    "pycharm": {
     "is_executing": true
    }
   },
   "outputs": [
    {
     "data": {
      "text/plain": [
       "ts         3799\n",
       "tv         1534\n",
       "del         706\n",
       "ins         477\n",
       "unknown     461\n",
       "Name: normal, dtype: int64"
      ]
     },
     "execution_count": 49,
     "metadata": {},
     "output_type": "execute_result"
    }
   ],
   "source": [
    "# check variant subtypes\n",
    "df.normal.apply(lambda gt: gt.site.var_subtype).value_counts()"
   ]
  },
  {
   "cell_type": "code",
   "execution_count": 50,
   "metadata": {
    "pycharm": {
     "is_executing": true
    }
   },
   "outputs": [
    {
     "data": {
      "text/plain": [
       "1     0.097176\n",
       "6     0.069227\n",
       "17    0.060628\n",
       "12    0.058621\n",
       "2     0.058048\n",
       "5     0.056185\n",
       "7     0.055181\n",
       "3     0.053175\n",
       "11    0.052028\n",
       "19    0.049162\n",
       "8     0.041708\n",
       "9     0.040705\n",
       "16    0.040562\n",
       "4     0.038412\n",
       "14    0.038125\n",
       "13    0.033252\n",
       "10    0.031676\n",
       "X     0.028522\n",
       "22    0.022359\n",
       "20    0.021069\n",
       "15    0.020926\n",
       "18    0.017199\n",
       "21    0.016053\n",
       "Name: normal, dtype: float64"
      ]
     },
     "execution_count": 50,
     "metadata": {},
     "output_type": "execute_result"
    }
   ],
   "source": [
    "# check chrom distibution\n",
    "df.normal.apply(lambda gt: gt.site.CHROM).value_counts(normalize=True)"
   ]
  },
  {
   "cell_type": "code",
   "execution_count": 51,
   "metadata": {
    "pycharm": {
     "is_executing": true
    }
   },
   "outputs": [
    {
     "data": {
      "text/html": [
       "<div>\n",
       "<style scoped>\n",
       "    .dataframe tbody tr th:only-of-type {\n",
       "        vertical-align: middle;\n",
       "    }\n",
       "\n",
       "    .dataframe tbody tr th {\n",
       "        vertical-align: top;\n",
       "    }\n",
       "\n",
       "    .dataframe thead th {\n",
       "        text-align: right;\n",
       "    }\n",
       "</style>\n",
       "<table border=\"1\" class=\"dataframe\">\n",
       "  <thead>\n",
       "    <tr style=\"text-align: right;\">\n",
       "      <th></th>\n",
       "      <th>normal</th>\n",
       "      <th>vaf5</th>\n",
       "    </tr>\n",
       "  </thead>\n",
       "  <tbody>\n",
       "    <tr>\n",
       "      <th>3280</th>\n",
       "      <td>Call(sample=normal, CallData(GT=0/0/0, GQ=160....</td>\n",
       "      <td>Call(sample=vaf5, CallData(GT=0/0/1, GQ=46.362...</td>\n",
       "    </tr>\n",
       "    <tr>\n",
       "      <th>3281</th>\n",
       "      <td>Call(sample=normal, CallData(GT=0/0/0, GQ=135....</td>\n",
       "      <td>Call(sample=vaf5, CallData(GT=0/0/1, GQ=-0.0, ...</td>\n",
       "    </tr>\n",
       "  </tbody>\n",
       "</table>\n",
       "</div>"
      ],
      "text/plain": [
       "                                                 normal  \\\n",
       "3280  Call(sample=normal, CallData(GT=0/0/0, GQ=160....   \n",
       "3281  Call(sample=normal, CallData(GT=0/0/0, GQ=135....   \n",
       "\n",
       "                                                   vaf5  \n",
       "3280  Call(sample=vaf5, CallData(GT=0/0/1, GQ=46.362...  \n",
       "3281  Call(sample=vaf5, CallData(GT=0/0/1, GQ=-0.0, ...  "
      ]
     },
     "execution_count": 51,
     "metadata": {},
     "output_type": "execute_result"
    }
   ],
   "source": [
    "# are genos always the same for normal and vaf5 ?\n",
    "df.loc[~df.apply(lambda r: r.normal['GT'] == r.vaf5['GT'], axis=1)]"
   ]
  },
  {
   "cell_type": "code",
   "execution_count": 52,
   "metadata": {
    "pycharm": {
     "is_executing": true
    }
   },
   "outputs": [
    {
     "data": {
      "text/plain": [
       "1    5334\n",
       "Name: normal, dtype: int64"
      ]
     },
     "execution_count": 52,
     "metadata": {},
     "output_type": "execute_result"
    }
   ],
   "source": [
    "df.normal.loc[df.normal.apply(lambda gt: gt.site.is_snp)] \\\n",
    "    .apply(lambda gt: (gt.site.end - gt.site.start)) \\\n",
    "    .value_counts()"
   ]
  },
  {
   "cell_type": "code",
   "execution_count": null,
   "metadata": {
    "pycharm": {
     "is_executing": true
    }
   },
   "outputs": [],
   "source": []
  },
  {
   "cell_type": "code",
   "execution_count": null,
   "metadata": {
    "pycharm": {
     "is_executing": true,
     "name": "#%%\n"
    }
   },
   "outputs": [],
   "source": []
  },
  {
   "cell_type": "code",
   "execution_count": 53,
   "metadata": {
    "pycharm": {
     "is_executing": true
    }
   },
   "outputs": [],
   "source": [
    "import allel"
   ]
  },
  {
   "cell_type": "code",
   "execution_count": 54,
   "metadata": {
    "pycharm": {
     "is_executing": true
    }
   },
   "outputs": [],
   "source": [
    "callset = allel.read_vcf('../test/data/Challenge_data.vcf', numbers={'GT': 3})"
   ]
  },
  {
   "cell_type": "code",
   "execution_count": 55,
   "metadata": {
    "pycharm": {
     "is_executing": true
    }
   },
   "outputs": [],
   "source": [
    "gt = allel.GenotypeArray(callset['calldata/GT'])"
   ]
  },
  {
   "cell_type": "code",
   "execution_count": 56,
   "metadata": {
    "pycharm": {
     "is_executing": true
    }
   },
   "outputs": [
    {
     "data": {
      "text/html": [
       "<div>\n",
       "<style scoped>\n",
       "    .dataframe tbody tr th:only-of-type {\n",
       "        vertical-align: middle;\n",
       "    }\n",
       "\n",
       "    .dataframe tbody tr th {\n",
       "        vertical-align: top;\n",
       "    }\n",
       "\n",
       "    .dataframe thead th {\n",
       "        text-align: right;\n",
       "    }\n",
       "</style>\n",
       "<table border=\"1\" class=\"dataframe\">\n",
       "  <thead>\n",
       "    <tr style=\"text-align: right;\">\n",
       "      <th></th>\n",
       "      <th>CHROM</th>\n",
       "      <th>POS</th>\n",
       "      <th>ID</th>\n",
       "      <th>REF</th>\n",
       "      <th>ALT_1</th>\n",
       "      <th>ALT_2</th>\n",
       "      <th>ALT_3</th>\n",
       "      <th>QUAL</th>\n",
       "      <th>FILTER_PASS</th>\n",
       "    </tr>\n",
       "  </thead>\n",
       "  <tbody>\n",
       "    <tr>\n",
       "      <th>0</th>\n",
       "      <td>1</td>\n",
       "      <td>931393</td>\n",
       "      <td>.</td>\n",
       "      <td>G</td>\n",
       "      <td>T</td>\n",
       "      <td>NaN</td>\n",
       "      <td>NaN</td>\n",
       "      <td>2.179380e-13</td>\n",
       "      <td>False</td>\n",
       "    </tr>\n",
       "    <tr>\n",
       "      <th>1</th>\n",
       "      <td>1</td>\n",
       "      <td>935222</td>\n",
       "      <td>.</td>\n",
       "      <td>C</td>\n",
       "      <td>A</td>\n",
       "      <td>NaN</td>\n",
       "      <td>NaN</td>\n",
       "      <td>1.686670e+04</td>\n",
       "      <td>False</td>\n",
       "    </tr>\n",
       "    <tr>\n",
       "      <th>2</th>\n",
       "      <td>1</td>\n",
       "      <td>1277533</td>\n",
       "      <td>.</td>\n",
       "      <td>T</td>\n",
       "      <td>C</td>\n",
       "      <td>NaN</td>\n",
       "      <td>NaN</td>\n",
       "      <td>2.816860e+04</td>\n",
       "      <td>False</td>\n",
       "    </tr>\n",
       "    <tr>\n",
       "      <th>3</th>\n",
       "      <td>1</td>\n",
       "      <td>1284490</td>\n",
       "      <td>.</td>\n",
       "      <td>G</td>\n",
       "      <td>A</td>\n",
       "      <td>NaN</td>\n",
       "      <td>NaN</td>\n",
       "      <td>6.300560e+03</td>\n",
       "      <td>False</td>\n",
       "    </tr>\n",
       "    <tr>\n",
       "      <th>4</th>\n",
       "      <td>1</td>\n",
       "      <td>1571850</td>\n",
       "      <td>.</td>\n",
       "      <td>G</td>\n",
       "      <td>A</td>\n",
       "      <td>NaN</td>\n",
       "      <td>NaN</td>\n",
       "      <td>0.000000e+00</td>\n",
       "      <td>False</td>\n",
       "    </tr>\n",
       "  </tbody>\n",
       "</table>\n",
       "</div>"
      ],
      "text/plain": [
       "  CHROM      POS ID REF ALT_1 ALT_2 ALT_3          QUAL  FILTER_PASS\n",
       "0     1   931393  .   G     T   NaN   NaN  2.179380e-13        False\n",
       "1     1   935222  .   C     A   NaN   NaN  1.686670e+04        False\n",
       "2     1  1277533  .   T     C   NaN   NaN  2.816860e+04        False\n",
       "3     1  1284490  .   G     A   NaN   NaN  6.300560e+03        False\n",
       "4     1  1571850  .   G     A   NaN   NaN  0.000000e+00        False"
      ]
     },
     "execution_count": 56,
     "metadata": {},
     "output_type": "execute_result"
    }
   ],
   "source": [
    "al_df = allel.vcf_to_dataframe('../test/data/Challenge_data.vcf', numbers={'GT': 3})\n",
    "al_df.head()"
   ]
  },
  {
   "cell_type": "code",
   "execution_count": null,
   "metadata": {
    "pycharm": {
     "is_executing": true
    }
   },
   "outputs": [],
   "source": []
  },
  {
   "cell_type": "code",
   "execution_count": 63,
   "metadata": {
    "pycharm": {
     "is_executing": true
    }
   },
   "outputs": [
    {
     "data": {
      "text/html": [
       "<div>\n",
       "<style scoped>\n",
       "    .dataframe tbody tr th:only-of-type {\n",
       "        vertical-align: middle;\n",
       "    }\n",
       "\n",
       "    .dataframe tbody tr th {\n",
       "        vertical-align: top;\n",
       "    }\n",
       "\n",
       "    .dataframe thead th {\n",
       "        text-align: right;\n",
       "    }\n",
       "</style>\n",
       "<table border=\"1\" class=\"dataframe\">\n",
       "  <thead>\n",
       "    <tr style=\"text-align: right;\">\n",
       "      <th></th>\n",
       "      <th>ANN_Allele</th>\n",
       "      <th>ANN_Annotation</th>\n",
       "      <th>ANN_Annotation_Impact</th>\n",
       "      <th>ANN_Gene_Name</th>\n",
       "      <th>ANN_Gene_ID</th>\n",
       "      <th>ANN_Feature_Type</th>\n",
       "      <th>ANN_Feature_ID</th>\n",
       "      <th>ANN_Transcript_BioType</th>\n",
       "      <th>ANN_Rank</th>\n",
       "      <th>ANN_HGVS_c</th>\n",
       "      <th>ANN_HGVS_p</th>\n",
       "      <th>ANN_cDNA_pos</th>\n",
       "      <th>ANN_cDNA_length</th>\n",
       "      <th>ANN_CDS_pos</th>\n",
       "      <th>ANN_CDS_length</th>\n",
       "      <th>ANN_AA_pos</th>\n",
       "      <th>ANN_AA_length</th>\n",
       "      <th>ANN_Distance</th>\n",
       "    </tr>\n",
       "  </thead>\n",
       "  <tbody>\n",
       "    <tr>\n",
       "      <th>0</th>\n",
       "      <td>T</td>\n",
       "      <td>downstream_gene_variant</td>\n",
       "      <td>MODIFIER</td>\n",
       "      <td>HES4</td>\n",
       "      <td>ENSG00000188290</td>\n",
       "      <td>transcript</td>\n",
       "      <td>ENST00000428771</td>\n",
       "      <td>protein_coding</td>\n",
       "      <td>-1</td>\n",
       "      <td>*3046C&gt;A</td>\n",
       "      <td>NaN</td>\n",
       "      <td>-1</td>\n",
       "      <td>-1</td>\n",
       "      <td>-1</td>\n",
       "      <td>-1</td>\n",
       "      <td>-1</td>\n",
       "      <td>-1</td>\n",
       "      <td>2949</td>\n",
       "    </tr>\n",
       "    <tr>\n",
       "      <th>1</th>\n",
       "      <td>A</td>\n",
       "      <td>missense_variant</td>\n",
       "      <td>MODERATE</td>\n",
       "      <td>HES4</td>\n",
       "      <td>ENSG00000188290</td>\n",
       "      <td>transcript</td>\n",
       "      <td>ENST00000428771</td>\n",
       "      <td>protein_coding</td>\n",
       "      <td>1</td>\n",
       "      <td>132G&gt;T</td>\n",
       "      <td>Arg44Ser</td>\n",
       "      <td>331</td>\n",
       "      <td>1040</td>\n",
       "      <td>132</td>\n",
       "      <td>744</td>\n",
       "      <td>44</td>\n",
       "      <td>247</td>\n",
       "      <td>-1</td>\n",
       "    </tr>\n",
       "    <tr>\n",
       "      <th>2</th>\n",
       "      <td>C</td>\n",
       "      <td>synonymous_variant</td>\n",
       "      <td>LOW</td>\n",
       "      <td>DVL1</td>\n",
       "      <td>ENSG00000107404</td>\n",
       "      <td>transcript</td>\n",
       "      <td>ENST00000378888</td>\n",
       "      <td>protein_coding</td>\n",
       "      <td>4</td>\n",
       "      <td>366A&gt;G</td>\n",
       "      <td>Pro122Pro</td>\n",
       "      <td>651</td>\n",
       "      <td>3239</td>\n",
       "      <td>366</td>\n",
       "      <td>2088</td>\n",
       "      <td>122</td>\n",
       "      <td>695</td>\n",
       "      <td>-1</td>\n",
       "    </tr>\n",
       "    <tr>\n",
       "      <th>3</th>\n",
       "      <td>A</td>\n",
       "      <td>5_prime_UTR_variant</td>\n",
       "      <td>MODIFIER</td>\n",
       "      <td>DVL1</td>\n",
       "      <td>ENSG00000107404</td>\n",
       "      <td>transcript</td>\n",
       "      <td>ENST00000378888</td>\n",
       "      <td>protein_coding</td>\n",
       "      <td>1</td>\n",
       "      <td>-45C&gt;T</td>\n",
       "      <td>NaN</td>\n",
       "      <td>-1</td>\n",
       "      <td>-1</td>\n",
       "      <td>-1</td>\n",
       "      <td>-1</td>\n",
       "      <td>-1</td>\n",
       "      <td>-1</td>\n",
       "      <td>45</td>\n",
       "    </tr>\n",
       "    <tr>\n",
       "      <th>4</th>\n",
       "      <td>A</td>\n",
       "      <td>splice_region_variant&amp;intron_variant</td>\n",
       "      <td>LOW</td>\n",
       "      <td>CDK11B</td>\n",
       "      <td>ENSG00000248333</td>\n",
       "      <td>transcript</td>\n",
       "      <td>ENST00000407249</td>\n",
       "      <td>protein_coding</td>\n",
       "      <td>18</td>\n",
       "      <td>1927-7C&gt;T</td>\n",
       "      <td>NaN</td>\n",
       "      <td>-1</td>\n",
       "      <td>-1</td>\n",
       "      <td>-1</td>\n",
       "      <td>-1</td>\n",
       "      <td>-1</td>\n",
       "      <td>-1</td>\n",
       "      <td>-1</td>\n",
       "    </tr>\n",
       "    <tr>\n",
       "      <th>5</th>\n",
       "      <td>G</td>\n",
       "      <td>downstream_gene_variant</td>\n",
       "      <td>MODIFIER</td>\n",
       "      <td>MMP23B</td>\n",
       "      <td>ENSG00000189409</td>\n",
       "      <td>transcript</td>\n",
       "      <td>ENST00000356026</td>\n",
       "      <td>protein_coding</td>\n",
       "      <td>-1</td>\n",
       "      <td>*2578A&gt;G</td>\n",
       "      <td>NaN</td>\n",
       "      <td>-1</td>\n",
       "      <td>-1</td>\n",
       "      <td>-1</td>\n",
       "      <td>-1</td>\n",
       "      <td>-1</td>\n",
       "      <td>-1</td>\n",
       "      <td>2549</td>\n",
       "    </tr>\n",
       "    <tr>\n",
       "      <th>6</th>\n",
       "      <td>C</td>\n",
       "      <td>downstream_gene_variant</td>\n",
       "      <td>MODIFIER</td>\n",
       "      <td>MMP23B</td>\n",
       "      <td>ENSG00000189409</td>\n",
       "      <td>transcript</td>\n",
       "      <td>ENST00000490017</td>\n",
       "      <td>nonsense_mediated_decay</td>\n",
       "      <td>-1</td>\n",
       "      <td>*5615T&gt;C</td>\n",
       "      <td>NaN</td>\n",
       "      <td>-1</td>\n",
       "      <td>-1</td>\n",
       "      <td>-1</td>\n",
       "      <td>-1</td>\n",
       "      <td>-1</td>\n",
       "      <td>-1</td>\n",
       "      <td>4977</td>\n",
       "    </tr>\n",
       "    <tr>\n",
       "      <th>7</th>\n",
       "      <td>T</td>\n",
       "      <td>missense_variant</td>\n",
       "      <td>MODERATE</td>\n",
       "      <td>CDK11B</td>\n",
       "      <td>ENSG00000248333</td>\n",
       "      <td>transcript</td>\n",
       "      <td>ENST00000407249</td>\n",
       "      <td>protein_coding</td>\n",
       "      <td>12</td>\n",
       "      <td>1114G&gt;A</td>\n",
       "      <td>Gly372Arg</td>\n",
       "      <td>1114</td>\n",
       "      <td>2384</td>\n",
       "      <td>1114</td>\n",
       "      <td>2358</td>\n",
       "      <td>372</td>\n",
       "      <td>785</td>\n",
       "      <td>-1</td>\n",
       "    </tr>\n",
       "    <tr>\n",
       "      <th>8</th>\n",
       "      <td>T</td>\n",
       "      <td>splice_region_variant&amp;synonymous_variant</td>\n",
       "      <td>LOW</td>\n",
       "      <td>CDK11B</td>\n",
       "      <td>ENSG00000248333</td>\n",
       "      <td>transcript</td>\n",
       "      <td>ENST00000407249</td>\n",
       "      <td>protein_coding</td>\n",
       "      <td>10</td>\n",
       "      <td>861G&gt;A</td>\n",
       "      <td>Ala287Ala</td>\n",
       "      <td>861</td>\n",
       "      <td>2384</td>\n",
       "      <td>861</td>\n",
       "      <td>2358</td>\n",
       "      <td>287</td>\n",
       "      <td>785</td>\n",
       "      <td>-1</td>\n",
       "    </tr>\n",
       "    <tr>\n",
       "      <th>9</th>\n",
       "      <td>C</td>\n",
       "      <td>synonymous_variant</td>\n",
       "      <td>LOW</td>\n",
       "      <td>CDK11A</td>\n",
       "      <td>ENSG00000008128</td>\n",
       "      <td>transcript</td>\n",
       "      <td>ENST00000378633</td>\n",
       "      <td>protein_coding</td>\n",
       "      <td>18</td>\n",
       "      <td>1980A&gt;G</td>\n",
       "      <td>Lys660Lys</td>\n",
       "      <td>2060</td>\n",
       "      <td>2458</td>\n",
       "      <td>1980</td>\n",
       "      <td>2352</td>\n",
       "      <td>660</td>\n",
       "      <td>783</td>\n",
       "      <td>-1</td>\n",
       "    </tr>\n",
       "    <tr>\n",
       "      <th>10</th>\n",
       "      <td>A</td>\n",
       "      <td>synonymous_variant</td>\n",
       "      <td>LOW</td>\n",
       "      <td>CDK11A</td>\n",
       "      <td>ENSG00000008128</td>\n",
       "      <td>transcript</td>\n",
       "      <td>ENST00000378633</td>\n",
       "      <td>protein_coding</td>\n",
       "      <td>15</td>\n",
       "      <td>1608G&gt;T</td>\n",
       "      <td>Arg536Arg</td>\n",
       "      <td>1688</td>\n",
       "      <td>2458</td>\n",
       "      <td>1608</td>\n",
       "      <td>2352</td>\n",
       "      <td>536</td>\n",
       "      <td>783</td>\n",
       "      <td>-1</td>\n",
       "    </tr>\n",
       "    <tr>\n",
       "      <th>11</th>\n",
       "      <td>A</td>\n",
       "      <td>synonymous_variant</td>\n",
       "      <td>LOW</td>\n",
       "      <td>CDK11A</td>\n",
       "      <td>ENSG00000008128</td>\n",
       "      <td>transcript</td>\n",
       "      <td>ENST00000378633</td>\n",
       "      <td>protein_coding</td>\n",
       "      <td>14</td>\n",
       "      <td>1518C&gt;T</td>\n",
       "      <td>Tyr506Tyr</td>\n",
       "      <td>1598</td>\n",
       "      <td>2458</td>\n",
       "      <td>1518</td>\n",
       "      <td>2352</td>\n",
       "      <td>506</td>\n",
       "      <td>783</td>\n",
       "      <td>-1</td>\n",
       "    </tr>\n",
       "    <tr>\n",
       "      <th>12</th>\n",
       "      <td>T</td>\n",
       "      <td>missense_variant</td>\n",
       "      <td>MODERATE</td>\n",
       "      <td>CDK11A</td>\n",
       "      <td>ENSG00000008128</td>\n",
       "      <td>transcript</td>\n",
       "      <td>ENST00000378633</td>\n",
       "      <td>protein_coding</td>\n",
       "      <td>11</td>\n",
       "      <td>1108G&gt;A</td>\n",
       "      <td>Gly370Arg</td>\n",
       "      <td>1188</td>\n",
       "      <td>2458</td>\n",
       "      <td>1108</td>\n",
       "      <td>2352</td>\n",
       "      <td>370</td>\n",
       "      <td>783</td>\n",
       "      <td>-1</td>\n",
       "    </tr>\n",
       "    <tr>\n",
       "      <th>13</th>\n",
       "      <td>G</td>\n",
       "      <td>splice_region_variant&amp;intron_variant</td>\n",
       "      <td>LOW</td>\n",
       "      <td>RP1-283E3.8</td>\n",
       "      <td>ENSG00000268575</td>\n",
       "      <td>transcript</td>\n",
       "      <td>ENST00000598846</td>\n",
       "      <td>processed_transcript</td>\n",
       "      <td>6</td>\n",
       "      <td>3222+7G&gt;C</td>\n",
       "      <td>NaN</td>\n",
       "      <td>-1</td>\n",
       "      <td>-1</td>\n",
       "      <td>-1</td>\n",
       "      <td>-1</td>\n",
       "      <td>-1</td>\n",
       "      <td>-1</td>\n",
       "      <td>-1</td>\n",
       "    </tr>\n",
       "    <tr>\n",
       "      <th>14</th>\n",
       "      <td>C</td>\n",
       "      <td>synonymous_variant</td>\n",
       "      <td>LOW</td>\n",
       "      <td>CDK11A</td>\n",
       "      <td>ENSG00000008128</td>\n",
       "      <td>transcript</td>\n",
       "      <td>ENST00000378633</td>\n",
       "      <td>protein_coding</td>\n",
       "      <td>5</td>\n",
       "      <td>429A&gt;G</td>\n",
       "      <td>Glu143Glu</td>\n",
       "      <td>509</td>\n",
       "      <td>2458</td>\n",
       "      <td>429</td>\n",
       "      <td>2352</td>\n",
       "      <td>143</td>\n",
       "      <td>783</td>\n",
       "      <td>-1</td>\n",
       "    </tr>\n",
       "    <tr>\n",
       "      <th>15</th>\n",
       "      <td>C</td>\n",
       "      <td>synonymous_variant</td>\n",
       "      <td>LOW</td>\n",
       "      <td>CDK11A</td>\n",
       "      <td>ENSG00000008128</td>\n",
       "      <td>transcript</td>\n",
       "      <td>ENST00000378633</td>\n",
       "      <td>protein_coding</td>\n",
       "      <td>5</td>\n",
       "      <td>372A&gt;G</td>\n",
       "      <td>Arg124Arg</td>\n",
       "      <td>452</td>\n",
       "      <td>2458</td>\n",
       "      <td>372</td>\n",
       "      <td>2352</td>\n",
       "      <td>124</td>\n",
       "      <td>783</td>\n",
       "      <td>-1</td>\n",
       "    </tr>\n",
       "    <tr>\n",
       "      <th>16</th>\n",
       "      <td>C</td>\n",
       "      <td>missense_variant</td>\n",
       "      <td>MODERATE</td>\n",
       "      <td>CDK11A</td>\n",
       "      <td>ENSG00000008128</td>\n",
       "      <td>transcript</td>\n",
       "      <td>ENST00000356200</td>\n",
       "      <td>protein_coding</td>\n",
       "      <td>3</td>\n",
       "      <td>233A&gt;G</td>\n",
       "      <td>His78Arg</td>\n",
       "      <td>468</td>\n",
       "      <td>2653</td>\n",
       "      <td>233</td>\n",
       "      <td>2241</td>\n",
       "      <td>78</td>\n",
       "      <td>746</td>\n",
       "      <td>-1</td>\n",
       "    </tr>\n",
       "    <tr>\n",
       "      <th>17</th>\n",
       "      <td>GTTTC</td>\n",
       "      <td>missense_variant&amp;splice_region_variant</td>\n",
       "      <td>MODERATE</td>\n",
       "      <td>CDK11A</td>\n",
       "      <td>ENSG00000008128</td>\n",
       "      <td>transcript</td>\n",
       "      <td>ENST00000378633</td>\n",
       "      <td>protein_coding</td>\n",
       "      <td>4</td>\n",
       "      <td>321_325delAAAATinsGAAAC</td>\n",
       "      <td>Trp109Arg</td>\n",
       "      <td>405</td>\n",
       "      <td>2458</td>\n",
       "      <td>321</td>\n",
       "      <td>2352</td>\n",
       "      <td>107</td>\n",
       "      <td>783</td>\n",
       "      <td>-1</td>\n",
       "    </tr>\n",
       "    <tr>\n",
       "      <th>18</th>\n",
       "      <td>C</td>\n",
       "      <td>synonymous_variant</td>\n",
       "      <td>LOW</td>\n",
       "      <td>CDK11A</td>\n",
       "      <td>ENSG00000008128</td>\n",
       "      <td>transcript</td>\n",
       "      <td>ENST00000378633</td>\n",
       "      <td>protein_coding</td>\n",
       "      <td>4</td>\n",
       "      <td>315A&gt;G</td>\n",
       "      <td>Arg105Arg</td>\n",
       "      <td>395</td>\n",
       "      <td>2458</td>\n",
       "      <td>315</td>\n",
       "      <td>2352</td>\n",
       "      <td>105</td>\n",
       "      <td>783</td>\n",
       "      <td>-1</td>\n",
       "    </tr>\n",
       "    <tr>\n",
       "      <th>19</th>\n",
       "      <td>G</td>\n",
       "      <td>missense_variant</td>\n",
       "      <td>MODERATE</td>\n",
       "      <td>CDK11A</td>\n",
       "      <td>ENSG00000008128</td>\n",
       "      <td>transcript</td>\n",
       "      <td>ENST00000378633</td>\n",
       "      <td>protein_coding</td>\n",
       "      <td>4</td>\n",
       "      <td>290T&gt;C</td>\n",
       "      <td>Val97Ala</td>\n",
       "      <td>370</td>\n",
       "      <td>2458</td>\n",
       "      <td>290</td>\n",
       "      <td>2352</td>\n",
       "      <td>97</td>\n",
       "      <td>783</td>\n",
       "      <td>-1</td>\n",
       "    </tr>\n",
       "    <tr>\n",
       "      <th>20</th>\n",
       "      <td>A</td>\n",
       "      <td>missense_variant</td>\n",
       "      <td>MODERATE</td>\n",
       "      <td>CDK11A</td>\n",
       "      <td>ENSG00000008128</td>\n",
       "      <td>transcript</td>\n",
       "      <td>ENST00000378633</td>\n",
       "      <td>protein_coding</td>\n",
       "      <td>4</td>\n",
       "      <td>277C&gt;T</td>\n",
       "      <td>Arg93Trp</td>\n",
       "      <td>357</td>\n",
       "      <td>2458</td>\n",
       "      <td>277</td>\n",
       "      <td>2352</td>\n",
       "      <td>93</td>\n",
       "      <td>783</td>\n",
       "      <td>-1</td>\n",
       "    </tr>\n",
       "    <tr>\n",
       "      <th>21</th>\n",
       "      <td>C</td>\n",
       "      <td>upstream_gene_variant</td>\n",
       "      <td>MODIFIER</td>\n",
       "      <td>RP1-283E3.4</td>\n",
       "      <td>ENSG00000227775</td>\n",
       "      <td>transcript</td>\n",
       "      <td>ENST00000417099</td>\n",
       "      <td>processed_transcript</td>\n",
       "      <td>-1</td>\n",
       "      <td>-3050T&gt;C</td>\n",
       "      <td>NaN</td>\n",
       "      <td>-1</td>\n",
       "      <td>-1</td>\n",
       "      <td>-1</td>\n",
       "      <td>-1</td>\n",
       "      <td>-1</td>\n",
       "      <td>-1</td>\n",
       "      <td>3050</td>\n",
       "    </tr>\n",
       "    <tr>\n",
       "      <th>22</th>\n",
       "      <td>T</td>\n",
       "      <td>splice_region_variant&amp;intron_variant</td>\n",
       "      <td>LOW</td>\n",
       "      <td>RP1-283E3.8</td>\n",
       "      <td>ENSG00000268575</td>\n",
       "      <td>transcript</td>\n",
       "      <td>ENST00000598846</td>\n",
       "      <td>processed_transcript</td>\n",
       "      <td>4</td>\n",
       "      <td>2991+7G&gt;A</td>\n",
       "      <td>NaN</td>\n",
       "      <td>-1</td>\n",
       "      <td>-1</td>\n",
       "      <td>-1</td>\n",
       "      <td>-1</td>\n",
       "      <td>-1</td>\n",
       "      <td>-1</td>\n",
       "      <td>-1</td>\n",
       "    </tr>\n",
       "    <tr>\n",
       "      <th>23</th>\n",
       "      <td>TAAAAAAT</td>\n",
       "      <td>5_prime_UTR_variant</td>\n",
       "      <td>MODIFIER</td>\n",
       "      <td>CDK11A</td>\n",
       "      <td>ENSG00000008128</td>\n",
       "      <td>transcript</td>\n",
       "      <td>ENST00000356200</td>\n",
       "      <td>protein_coding</td>\n",
       "      <td>1</td>\n",
       "      <td>-101delT</td>\n",
       "      <td>NaN</td>\n",
       "      <td>-1</td>\n",
       "      <td>-1</td>\n",
       "      <td>-1</td>\n",
       "      <td>-1</td>\n",
       "      <td>-1</td>\n",
       "      <td>-1</td>\n",
       "      <td>101</td>\n",
       "    </tr>\n",
       "    <tr>\n",
       "      <th>24</th>\n",
       "      <td>A</td>\n",
       "      <td>structural_interaction_variant</td>\n",
       "      <td>HIGH</td>\n",
       "      <td>SKI</td>\n",
       "      <td>ENSG00000157933</td>\n",
       "      <td>interaction</td>\n",
       "      <td>1SBX:A_121-A_177:ENST00000378536</td>\n",
       "      <td>protein_coding</td>\n",
       "      <td>1</td>\n",
       "      <td>530T&gt;A</td>\n",
       "      <td>NaN</td>\n",
       "      <td>-1</td>\n",
       "      <td>-1</td>\n",
       "      <td>-1</td>\n",
       "      <td>-1</td>\n",
       "      <td>-1</td>\n",
       "      <td>-1</td>\n",
       "      <td>-1</td>\n",
       "    </tr>\n",
       "    <tr>\n",
       "      <th>25</th>\n",
       "      <td>T</td>\n",
       "      <td>intron_variant</td>\n",
       "      <td>MODIFIER</td>\n",
       "      <td>SKI</td>\n",
       "      <td>ENSG00000157933</td>\n",
       "      <td>transcript</td>\n",
       "      <td>ENST00000378536</td>\n",
       "      <td>protein_coding</td>\n",
       "      <td>1</td>\n",
       "      <td>969+3761G&gt;T</td>\n",
       "      <td>NaN</td>\n",
       "      <td>-1</td>\n",
       "      <td>-1</td>\n",
       "      <td>-1</td>\n",
       "      <td>-1</td>\n",
       "      <td>-1</td>\n",
       "      <td>-1</td>\n",
       "      <td>-1</td>\n",
       "    </tr>\n",
       "    <tr>\n",
       "      <th>26</th>\n",
       "      <td>G</td>\n",
       "      <td>missense_variant</td>\n",
       "      <td>MODERATE</td>\n",
       "      <td>TNFRSF14</td>\n",
       "      <td>ENSG00000157873</td>\n",
       "      <td>transcript</td>\n",
       "      <td>ENST00000355716</td>\n",
       "      <td>protein_coding</td>\n",
       "      <td>1</td>\n",
       "      <td>50A&gt;G</td>\n",
       "      <td>Lys17Arg</td>\n",
       "      <td>349</td>\n",
       "      <td>1707</td>\n",
       "      <td>50</td>\n",
       "      <td>852</td>\n",
       "      <td>17</td>\n",
       "      <td>283</td>\n",
       "      <td>-1</td>\n",
       "    </tr>\n",
       "    <tr>\n",
       "      <th>27</th>\n",
       "      <td>G</td>\n",
       "      <td>missense_variant</td>\n",
       "      <td>MODERATE</td>\n",
       "      <td>TNFRSF14</td>\n",
       "      <td>ENSG00000157873</td>\n",
       "      <td>transcript</td>\n",
       "      <td>ENST00000355716</td>\n",
       "      <td>protein_coding</td>\n",
       "      <td>2</td>\n",
       "      <td>152C&gt;G</td>\n",
       "      <td>Ser51Cys</td>\n",
       "      <td>451</td>\n",
       "      <td>1707</td>\n",
       "      <td>152</td>\n",
       "      <td>852</td>\n",
       "      <td>51</td>\n",
       "      <td>283</td>\n",
       "      <td>-1</td>\n",
       "    </tr>\n",
       "    <tr>\n",
       "      <th>28</th>\n",
       "      <td>G</td>\n",
       "      <td>upstream_gene_variant</td>\n",
       "      <td>MODIFIER</td>\n",
       "      <td>LINC00982</td>\n",
       "      <td>ENSG00000177133</td>\n",
       "      <td>transcript</td>\n",
       "      <td>ENST00000445317</td>\n",
       "      <td>antisense</td>\n",
       "      <td>-1</td>\n",
       "      <td>-884G&gt;C</td>\n",
       "      <td>NaN</td>\n",
       "      <td>-1</td>\n",
       "      <td>-1</td>\n",
       "      <td>-1</td>\n",
       "      <td>-1</td>\n",
       "      <td>-1</td>\n",
       "      <td>-1</td>\n",
       "      <td>884</td>\n",
       "    </tr>\n",
       "    <tr>\n",
       "      <th>29</th>\n",
       "      <td>T</td>\n",
       "      <td>synonymous_variant</td>\n",
       "      <td>LOW</td>\n",
       "      <td>PRDM16</td>\n",
       "      <td>ENSG00000142611</td>\n",
       "      <td>transcript</td>\n",
       "      <td>ENST00000270722</td>\n",
       "      <td>protein_coding</td>\n",
       "      <td>4</td>\n",
       "      <td>444C&gt;T</td>\n",
       "      <td>Ser148Ser</td>\n",
       "      <td>493</td>\n",
       "      <td>8690</td>\n",
       "      <td>444</td>\n",
       "      <td>3831</td>\n",
       "      <td>148</td>\n",
       "      <td>1276</td>\n",
       "      <td>-1</td>\n",
       "    </tr>\n",
       "    <tr>\n",
       "      <th>...</th>\n",
       "      <td>...</td>\n",
       "      <td>...</td>\n",
       "      <td>...</td>\n",
       "      <td>...</td>\n",
       "      <td>...</td>\n",
       "      <td>...</td>\n",
       "      <td>...</td>\n",
       "      <td>...</td>\n",
       "      <td>...</td>\n",
       "      <td>...</td>\n",
       "      <td>...</td>\n",
       "      <td>...</td>\n",
       "      <td>...</td>\n",
       "      <td>...</td>\n",
       "      <td>...</td>\n",
       "      <td>...</td>\n",
       "      <td>...</td>\n",
       "      <td>...</td>\n",
       "    </tr>\n",
       "    <tr>\n",
       "      <th>6947</th>\n",
       "      <td>GAAA</td>\n",
       "      <td>frameshift_variant</td>\n",
       "      <td>HIGH</td>\n",
       "      <td>RBMX</td>\n",
       "      <td>ENSG00000147274</td>\n",
       "      <td>transcript</td>\n",
       "      <td>ENST00000320676</td>\n",
       "      <td>protein_coding</td>\n",
       "      <td>4</td>\n",
       "      <td>314_315insTT</td>\n",
       "      <td>Pro106fs</td>\n",
       "      <td>469</td>\n",
       "      <td>2012</td>\n",
       "      <td>314</td>\n",
       "      <td>1176</td>\n",
       "      <td>105</td>\n",
       "      <td>391</td>\n",
       "      <td>-1</td>\n",
       "    </tr>\n",
       "    <tr>\n",
       "      <th>6948</th>\n",
       "      <td>T</td>\n",
       "      <td>missense_variant</td>\n",
       "      <td>MODERATE</td>\n",
       "      <td>RBMX</td>\n",
       "      <td>ENSG00000147274</td>\n",
       "      <td>transcript</td>\n",
       "      <td>ENST00000320676</td>\n",
       "      <td>protein_coding</td>\n",
       "      <td>4</td>\n",
       "      <td>232G&gt;A</td>\n",
       "      <td>Ala78Thr</td>\n",
       "      <td>387</td>\n",
       "      <td>2012</td>\n",
       "      <td>232</td>\n",
       "      <td>1176</td>\n",
       "      <td>78</td>\n",
       "      <td>391</td>\n",
       "      <td>-1</td>\n",
       "    </tr>\n",
       "    <tr>\n",
       "      <th>6949</th>\n",
       "      <td>TAAAAAAAAG</td>\n",
       "      <td>upstream_gene_variant</td>\n",
       "      <td>MODIFIER</td>\n",
       "      <td>RBMX</td>\n",
       "      <td>ENSG00000147274</td>\n",
       "      <td>transcript</td>\n",
       "      <td>ENST00000561733</td>\n",
       "      <td>processed_transcript</td>\n",
       "      <td>-1</td>\n",
       "      <td>-4672delT</td>\n",
       "      <td>NaN</td>\n",
       "      <td>-1</td>\n",
       "      <td>-1</td>\n",
       "      <td>-1</td>\n",
       "      <td>-1</td>\n",
       "      <td>-1</td>\n",
       "      <td>-1</td>\n",
       "      <td>4672</td>\n",
       "    </tr>\n",
       "    <tr>\n",
       "      <th>6950</th>\n",
       "      <td>ATTTT-ATTT</td>\n",
       "      <td>frameshift_variant</td>\n",
       "      <td>HIGH</td>\n",
       "      <td>RBMX</td>\n",
       "      <td>ENSG00000147274</td>\n",
       "      <td>transcript</td>\n",
       "      <td>ENST00000419968</td>\n",
       "      <td>protein_coding</td>\n",
       "      <td>1</td>\n",
       "      <td>1dupA</td>\n",
       "      <td>Asn1fs</td>\n",
       "      <td>2</td>\n",
       "      <td>938</td>\n",
       "      <td>1</td>\n",
       "      <td>874</td>\n",
       "      <td>1</td>\n",
       "      <td>290</td>\n",
       "      <td>-1</td>\n",
       "    </tr>\n",
       "    <tr>\n",
       "      <th>6951</th>\n",
       "      <td>CCCGCCGCCGC</td>\n",
       "      <td>5_prime_UTR_variant</td>\n",
       "      <td>MODIFIER</td>\n",
       "      <td>AFF2</td>\n",
       "      <td>ENSG00000155966</td>\n",
       "      <td>transcript</td>\n",
       "      <td>ENST00000370460</td>\n",
       "      <td>protein_coding</td>\n",
       "      <td>1</td>\n",
       "      <td>-11_-9delGCC</td>\n",
       "      <td>NaN</td>\n",
       "      <td>-1</td>\n",
       "      <td>-1</td>\n",
       "      <td>-1</td>\n",
       "      <td>-1</td>\n",
       "      <td>-1</td>\n",
       "      <td>-1</td>\n",
       "      <td>9</td>\n",
       "    </tr>\n",
       "    <tr>\n",
       "      <th>6952</th>\n",
       "      <td>G</td>\n",
       "      <td>intron_variant</td>\n",
       "      <td>MODIFIER</td>\n",
       "      <td>AFF2</td>\n",
       "      <td>ENSG00000155966</td>\n",
       "      <td>transcript</td>\n",
       "      <td>ENST00000370460</td>\n",
       "      <td>protein_coding</td>\n",
       "      <td>5</td>\n",
       "      <td>1173+23T&gt;G</td>\n",
       "      <td>NaN</td>\n",
       "      <td>-1</td>\n",
       "      <td>-1</td>\n",
       "      <td>-1</td>\n",
       "      <td>-1</td>\n",
       "      <td>-1</td>\n",
       "      <td>-1</td>\n",
       "      <td>-1</td>\n",
       "    </tr>\n",
       "    <tr>\n",
       "      <th>6953</th>\n",
       "      <td>A</td>\n",
       "      <td>synonymous_variant</td>\n",
       "      <td>LOW</td>\n",
       "      <td>AFF2</td>\n",
       "      <td>ENSG00000155966</td>\n",
       "      <td>transcript</td>\n",
       "      <td>ENST00000370460</td>\n",
       "      <td>protein_coding</td>\n",
       "      <td>10</td>\n",
       "      <td>1488G&gt;A</td>\n",
       "      <td>Ser496Ser</td>\n",
       "      <td>1967</td>\n",
       "      <td>13746</td>\n",
       "      <td>1488</td>\n",
       "      <td>3936</td>\n",
       "      <td>496</td>\n",
       "      <td>1311</td>\n",
       "      <td>-1</td>\n",
       "    </tr>\n",
       "    <tr>\n",
       "      <th>6954</th>\n",
       "      <td>CAAAAAG</td>\n",
       "      <td>frameshift_variant</td>\n",
       "      <td>HIGH</td>\n",
       "      <td>AFF2</td>\n",
       "      <td>ENSG00000155966</td>\n",
       "      <td>transcript</td>\n",
       "      <td>ENST00000370460</td>\n",
       "      <td>protein_coding</td>\n",
       "      <td>14</td>\n",
       "      <td>2933delA</td>\n",
       "      <td>Lys978fs</td>\n",
       "      <td>3412</td>\n",
       "      <td>13746</td>\n",
       "      <td>2933</td>\n",
       "      <td>3936</td>\n",
       "      <td>978</td>\n",
       "      <td>1311</td>\n",
       "      <td>-1</td>\n",
       "    </tr>\n",
       "    <tr>\n",
       "      <th>6955</th>\n",
       "      <td>G</td>\n",
       "      <td>splice_region_variant&amp;intron_variant</td>\n",
       "      <td>LOW</td>\n",
       "      <td>AFF2</td>\n",
       "      <td>ENSG00000155966</td>\n",
       "      <td>transcript</td>\n",
       "      <td>ENST00000370460</td>\n",
       "      <td>protein_coding</td>\n",
       "      <td>16</td>\n",
       "      <td>3404+7A&gt;G</td>\n",
       "      <td>NaN</td>\n",
       "      <td>-1</td>\n",
       "      <td>-1</td>\n",
       "      <td>-1</td>\n",
       "      <td>-1</td>\n",
       "      <td>-1</td>\n",
       "      <td>-1</td>\n",
       "      <td>-1</td>\n",
       "    </tr>\n",
       "    <tr>\n",
       "      <th>6956</th>\n",
       "      <td>TGCAGCAGCAGCAGCAA</td>\n",
       "      <td>disruptive_inframe_deletion</td>\n",
       "      <td>MODERATE</td>\n",
       "      <td>MAMLD1</td>\n",
       "      <td>ENSG00000013619</td>\n",
       "      <td>transcript</td>\n",
       "      <td>ENST00000432680</td>\n",
       "      <td>protein_coding</td>\n",
       "      <td>3</td>\n",
       "      <td>1728_1730delGCA</td>\n",
       "      <td>Gln577del</td>\n",
       "      <td>1903</td>\n",
       "      <td>3224</td>\n",
       "      <td>1728</td>\n",
       "      <td>2997</td>\n",
       "      <td>576</td>\n",
       "      <td>998</td>\n",
       "      <td>-1</td>\n",
       "    </tr>\n",
       "    <tr>\n",
       "      <th>6957</th>\n",
       "      <td>ACAGCAGCAGC</td>\n",
       "      <td>disruptive_inframe_deletion</td>\n",
       "      <td>MODERATE</td>\n",
       "      <td>MAMLD1</td>\n",
       "      <td>ENSG00000013619</td>\n",
       "      <td>transcript</td>\n",
       "      <td>ENST00000432680</td>\n",
       "      <td>protein_coding</td>\n",
       "      <td>3</td>\n",
       "      <td>1742_1744delAGC</td>\n",
       "      <td>Gln581del</td>\n",
       "      <td>1917</td>\n",
       "      <td>3224</td>\n",
       "      <td>1742</td>\n",
       "      <td>2997</td>\n",
       "      <td>581</td>\n",
       "      <td>998</td>\n",
       "      <td>-1</td>\n",
       "    </tr>\n",
       "    <tr>\n",
       "      <th>6958</th>\n",
       "      <td>A</td>\n",
       "      <td>downstream_gene_variant</td>\n",
       "      <td>MODIFIER</td>\n",
       "      <td>AC109994.1</td>\n",
       "      <td>ENSG00000263713</td>\n",
       "      <td>transcript</td>\n",
       "      <td>ENST00000401364</td>\n",
       "      <td>miRNA</td>\n",
       "      <td>-1</td>\n",
       "      <td>*4258C&gt;T</td>\n",
       "      <td>NaN</td>\n",
       "      <td>-1</td>\n",
       "      <td>-1</td>\n",
       "      <td>-1</td>\n",
       "      <td>-1</td>\n",
       "      <td>-1</td>\n",
       "      <td>-1</td>\n",
       "      <td>4258</td>\n",
       "    </tr>\n",
       "    <tr>\n",
       "      <th>6959</th>\n",
       "      <td>T</td>\n",
       "      <td>downstream_gene_variant</td>\n",
       "      <td>MODIFIER</td>\n",
       "      <td>AC109994.1</td>\n",
       "      <td>ENSG00000263713</td>\n",
       "      <td>transcript</td>\n",
       "      <td>ENST00000401364</td>\n",
       "      <td>miRNA</td>\n",
       "      <td>-1</td>\n",
       "      <td>*4182C&gt;A</td>\n",
       "      <td>NaN</td>\n",
       "      <td>-1</td>\n",
       "      <td>-1</td>\n",
       "      <td>-1</td>\n",
       "      <td>-1</td>\n",
       "      <td>-1</td>\n",
       "      <td>-1</td>\n",
       "      <td>4182</td>\n",
       "    </tr>\n",
       "    <tr>\n",
       "      <th>6960</th>\n",
       "      <td>A</td>\n",
       "      <td>missense_variant</td>\n",
       "      <td>MODERATE</td>\n",
       "      <td>IRAK1</td>\n",
       "      <td>ENSG00000184216</td>\n",
       "      <td>transcript</td>\n",
       "      <td>ENST00000369980</td>\n",
       "      <td>protein_coding</td>\n",
       "      <td>12</td>\n",
       "      <td>1595C&gt;T</td>\n",
       "      <td>Ser532Leu</td>\n",
       "      <td>1763</td>\n",
       "      <td>3666</td>\n",
       "      <td>1595</td>\n",
       "      <td>2139</td>\n",
       "      <td>532</td>\n",
       "      <td>712</td>\n",
       "      <td>-1</td>\n",
       "    </tr>\n",
       "    <tr>\n",
       "      <th>6961</th>\n",
       "      <td>T</td>\n",
       "      <td>missense_variant</td>\n",
       "      <td>MODERATE</td>\n",
       "      <td>IRAK1</td>\n",
       "      <td>ENSG00000184216</td>\n",
       "      <td>transcript</td>\n",
       "      <td>ENST00000369980</td>\n",
       "      <td>protein_coding</td>\n",
       "      <td>7</td>\n",
       "      <td>896G&gt;A</td>\n",
       "      <td>Arg299His</td>\n",
       "      <td>1064</td>\n",
       "      <td>3666</td>\n",
       "      <td>896</td>\n",
       "      <td>2139</td>\n",
       "      <td>299</td>\n",
       "      <td>712</td>\n",
       "      <td>-1</td>\n",
       "    </tr>\n",
       "    <tr>\n",
       "      <th>6962</th>\n",
       "      <td>G</td>\n",
       "      <td>missense_variant</td>\n",
       "      <td>MODERATE</td>\n",
       "      <td>IRAK1</td>\n",
       "      <td>ENSG00000184216</td>\n",
       "      <td>transcript</td>\n",
       "      <td>ENST00000369980</td>\n",
       "      <td>protein_coding</td>\n",
       "      <td>5</td>\n",
       "      <td>587T&gt;C</td>\n",
       "      <td>Phe196Ser</td>\n",
       "      <td>755</td>\n",
       "      <td>3666</td>\n",
       "      <td>587</td>\n",
       "      <td>2139</td>\n",
       "      <td>196</td>\n",
       "      <td>712</td>\n",
       "      <td>-1</td>\n",
       "    </tr>\n",
       "    <tr>\n",
       "      <th>6963</th>\n",
       "      <td>A</td>\n",
       "      <td>synonymous_variant</td>\n",
       "      <td>LOW</td>\n",
       "      <td>IRAK1</td>\n",
       "      <td>ENSG00000184216</td>\n",
       "      <td>transcript</td>\n",
       "      <td>ENST00000369980</td>\n",
       "      <td>protein_coding</td>\n",
       "      <td>4</td>\n",
       "      <td>483C&gt;T</td>\n",
       "      <td>Val161Val</td>\n",
       "      <td>651</td>\n",
       "      <td>3666</td>\n",
       "      <td>483</td>\n",
       "      <td>2139</td>\n",
       "      <td>161</td>\n",
       "      <td>712</td>\n",
       "      <td>-1</td>\n",
       "    </tr>\n",
       "    <tr>\n",
       "      <th>6964</th>\n",
       "      <td>T</td>\n",
       "      <td>synonymous_variant</td>\n",
       "      <td>LOW</td>\n",
       "      <td>DKC1</td>\n",
       "      <td>ENSG00000130826</td>\n",
       "      <td>transcript</td>\n",
       "      <td>ENST00000369550</td>\n",
       "      <td>protein_coding</td>\n",
       "      <td>5</td>\n",
       "      <td>369G&gt;T</td>\n",
       "      <td>Thr123Thr</td>\n",
       "      <td>579</td>\n",
       "      <td>2577</td>\n",
       "      <td>369</td>\n",
       "      <td>1545</td>\n",
       "      <td>123</td>\n",
       "      <td>514</td>\n",
       "      <td>-1</td>\n",
       "    </tr>\n",
       "    <tr>\n",
       "      <th>6965</th>\n",
       "      <td>CAAGAAGAAGAAGAAGAAGA</td>\n",
       "      <td>disruptive_inframe_deletion</td>\n",
       "      <td>MODERATE</td>\n",
       "      <td>DKC1</td>\n",
       "      <td>ENSG00000130826</td>\n",
       "      <td>transcript</td>\n",
       "      <td>ENST00000369550</td>\n",
       "      <td>protein_coding</td>\n",
       "      <td>15</td>\n",
       "      <td>1512_1514delGAA</td>\n",
       "      <td>Lys505del</td>\n",
       "      <td>1722</td>\n",
       "      <td>2577</td>\n",
       "      <td>1512</td>\n",
       "      <td>1545</td>\n",
       "      <td>504</td>\n",
       "      <td>514</td>\n",
       "      <td>-1</td>\n",
       "    </tr>\n",
       "    <tr>\n",
       "      <th>6966</th>\n",
       "      <td>A</td>\n",
       "      <td>upstream_gene_variant</td>\n",
       "      <td>MODIFIER</td>\n",
       "      <td>CMC4</td>\n",
       "      <td>ENSG00000182712</td>\n",
       "      <td>transcript</td>\n",
       "      <td>ENST00000369479</td>\n",
       "      <td>protein_coding</td>\n",
       "      <td>-1</td>\n",
       "      <td>-2602G&gt;T</td>\n",
       "      <td>NaN</td>\n",
       "      <td>-1</td>\n",
       "      <td>-1</td>\n",
       "      <td>-1</td>\n",
       "      <td>-1</td>\n",
       "      <td>-1</td>\n",
       "      <td>-1</td>\n",
       "      <td>1257</td>\n",
       "    </tr>\n",
       "    <tr>\n",
       "      <th>6967</th>\n",
       "      <td>C</td>\n",
       "      <td>intron_variant</td>\n",
       "      <td>MODIFIER</td>\n",
       "      <td>SPRY3</td>\n",
       "      <td>ENSG00000168939</td>\n",
       "      <td>transcript</td>\n",
       "      <td>ENST00000302805</td>\n",
       "      <td>protein_coding</td>\n",
       "      <td>1</td>\n",
       "      <td>-107+644G&gt;C</td>\n",
       "      <td>NaN</td>\n",
       "      <td>-1</td>\n",
       "      <td>-1</td>\n",
       "      <td>-1</td>\n",
       "      <td>-1</td>\n",
       "      <td>-1</td>\n",
       "      <td>-1</td>\n",
       "      <td>-1</td>\n",
       "    </tr>\n",
       "    <tr>\n",
       "      <th>6968</th>\n",
       "      <td>A</td>\n",
       "      <td>missense_variant</td>\n",
       "      <td>MODERATE</td>\n",
       "      <td>SPRY3</td>\n",
       "      <td>ENSG00000168939</td>\n",
       "      <td>transcript</td>\n",
       "      <td>ENST00000302805</td>\n",
       "      <td>protein_coding</td>\n",
       "      <td>2</td>\n",
       "      <td>353G&gt;A</td>\n",
       "      <td>Gly118Glu</td>\n",
       "      <td>784</td>\n",
       "      <td>9019</td>\n",
       "      <td>353</td>\n",
       "      <td>867</td>\n",
       "      <td>118</td>\n",
       "      <td>288</td>\n",
       "      <td>-1</td>\n",
       "    </tr>\n",
       "    <tr>\n",
       "      <th>6969</th>\n",
       "      <td>G</td>\n",
       "      <td>synonymous_variant</td>\n",
       "      <td>LOW</td>\n",
       "      <td>SPRY3</td>\n",
       "      <td>ENSG00000168939</td>\n",
       "      <td>transcript</td>\n",
       "      <td>ENST00000302805</td>\n",
       "      <td>protein_coding</td>\n",
       "      <td>2</td>\n",
       "      <td>747A&gt;G</td>\n",
       "      <td>Gln249Gln</td>\n",
       "      <td>1178</td>\n",
       "      <td>9019</td>\n",
       "      <td>747</td>\n",
       "      <td>867</td>\n",
       "      <td>249</td>\n",
       "      <td>288</td>\n",
       "      <td>-1</td>\n",
       "    </tr>\n",
       "    <tr>\n",
       "      <th>6970</th>\n",
       "      <td>A</td>\n",
       "      <td>3_prime_UTR_variant</td>\n",
       "      <td>MODIFIER</td>\n",
       "      <td>SPRY3</td>\n",
       "      <td>ENSG00000168939</td>\n",
       "      <td>transcript</td>\n",
       "      <td>ENST00000302805</td>\n",
       "      <td>protein_coding</td>\n",
       "      <td>2</td>\n",
       "      <td>*2878G&gt;A</td>\n",
       "      <td>NaN</td>\n",
       "      <td>-1</td>\n",
       "      <td>-1</td>\n",
       "      <td>-1</td>\n",
       "      <td>-1</td>\n",
       "      <td>-1</td>\n",
       "      <td>-1</td>\n",
       "      <td>2878</td>\n",
       "    </tr>\n",
       "    <tr>\n",
       "      <th>6971</th>\n",
       "      <td>C</td>\n",
       "      <td>3_prime_UTR_variant</td>\n",
       "      <td>MODIFIER</td>\n",
       "      <td>SPRY3</td>\n",
       "      <td>ENSG00000168939</td>\n",
       "      <td>transcript</td>\n",
       "      <td>ENST00000302805</td>\n",
       "      <td>protein_coding</td>\n",
       "      <td>2</td>\n",
       "      <td>*5261A&gt;C</td>\n",
       "      <td>NaN</td>\n",
       "      <td>-1</td>\n",
       "      <td>-1</td>\n",
       "      <td>-1</td>\n",
       "      <td>-1</td>\n",
       "      <td>-1</td>\n",
       "      <td>-1</td>\n",
       "      <td>5261</td>\n",
       "    </tr>\n",
       "    <tr>\n",
       "      <th>6972</th>\n",
       "      <td>G</td>\n",
       "      <td>3_prime_UTR_variant</td>\n",
       "      <td>MODIFIER</td>\n",
       "      <td>SPRY3</td>\n",
       "      <td>ENSG00000168939</td>\n",
       "      <td>transcript</td>\n",
       "      <td>ENST00000302805</td>\n",
       "      <td>protein_coding</td>\n",
       "      <td>2</td>\n",
       "      <td>*7429T&gt;G</td>\n",
       "      <td>NaN</td>\n",
       "      <td>-1</td>\n",
       "      <td>-1</td>\n",
       "      <td>-1</td>\n",
       "      <td>-1</td>\n",
       "      <td>-1</td>\n",
       "      <td>-1</td>\n",
       "      <td>7429</td>\n",
       "    </tr>\n",
       "    <tr>\n",
       "      <th>6973</th>\n",
       "      <td>C</td>\n",
       "      <td>3_prime_UTR_variant</td>\n",
       "      <td>MODIFIER</td>\n",
       "      <td>SPRY3</td>\n",
       "      <td>ENSG00000168939</td>\n",
       "      <td>transcript</td>\n",
       "      <td>ENST00000302805</td>\n",
       "      <td>protein_coding</td>\n",
       "      <td>2</td>\n",
       "      <td>*7526T&gt;C</td>\n",
       "      <td>NaN</td>\n",
       "      <td>-1</td>\n",
       "      <td>-1</td>\n",
       "      <td>-1</td>\n",
       "      <td>-1</td>\n",
       "      <td>-1</td>\n",
       "      <td>-1</td>\n",
       "      <td>7526</td>\n",
       "    </tr>\n",
       "    <tr>\n",
       "      <th>6974</th>\n",
       "      <td>C</td>\n",
       "      <td>upstream_gene_variant</td>\n",
       "      <td>MODIFIER</td>\n",
       "      <td>AJ271736.10</td>\n",
       "      <td>ENSG00000270726</td>\n",
       "      <td>transcript</td>\n",
       "      <td>ENST00000483543</td>\n",
       "      <td>retained_intron</td>\n",
       "      <td>-1</td>\n",
       "      <td>-785T&gt;C</td>\n",
       "      <td>NaN</td>\n",
       "      <td>-1</td>\n",
       "      <td>-1</td>\n",
       "      <td>-1</td>\n",
       "      <td>-1</td>\n",
       "      <td>-1</td>\n",
       "      <td>-1</td>\n",
       "      <td>785</td>\n",
       "    </tr>\n",
       "    <tr>\n",
       "      <th>6975</th>\n",
       "      <td>A</td>\n",
       "      <td>missense_variant</td>\n",
       "      <td>MODERATE</td>\n",
       "      <td>IL9R</td>\n",
       "      <td>ENSG00000124334</td>\n",
       "      <td>transcript</td>\n",
       "      <td>ENST00000244174</td>\n",
       "      <td>protein_coding</td>\n",
       "      <td>9</td>\n",
       "      <td>991G&gt;A</td>\n",
       "      <td>Gly331Arg</td>\n",
       "      <td>1170</td>\n",
       "      <td>1944</td>\n",
       "      <td>991</td>\n",
       "      <td>1566</td>\n",
       "      <td>331</td>\n",
       "      <td>521</td>\n",
       "      <td>-1</td>\n",
       "    </tr>\n",
       "    <tr>\n",
       "      <th>6976</th>\n",
       "      <td>GCAG</td>\n",
       "      <td>missense_variant</td>\n",
       "      <td>MODERATE</td>\n",
       "      <td>IL9R</td>\n",
       "      <td>ENSG00000124334</td>\n",
       "      <td>transcript</td>\n",
       "      <td>ENST00000244174</td>\n",
       "      <td>protein_coding</td>\n",
       "      <td>9</td>\n",
       "      <td>1316_1319delACAAinsGCAG</td>\n",
       "      <td>AsnAsn439SerSer</td>\n",
       "      <td>1495</td>\n",
       "      <td>1944</td>\n",
       "      <td>1316</td>\n",
       "      <td>1566</td>\n",
       "      <td>439</td>\n",
       "      <td>521</td>\n",
       "      <td>-1</td>\n",
       "    </tr>\n",
       "  </tbody>\n",
       "</table>\n",
       "<p>6977 rows × 18 columns</p>\n",
       "</div>"
      ],
      "text/plain": [
       "     ANN_Allele                        ANN_Annotation ANN_Annotation_Impact  \\\n",
       "0             T               downstream_gene_variant              MODIFIER   \n",
       "1             A                      missense_variant              MODERATE   \n",
       "2             C                    synonymous_variant                   LOW   \n",
       "3             A                   5_prime_UTR_variant              MODIFIER   \n",
       "4             A  splice_region_variant&intron_variant                   LOW   \n",
       "...         ...                                   ...                   ...   \n",
       "6972          G                   3_prime_UTR_variant              MODIFIER   \n",
       "6973          C                   3_prime_UTR_variant              MODIFIER   \n",
       "6974          C                 upstream_gene_variant              MODIFIER   \n",
       "6975          A                      missense_variant              MODERATE   \n",
       "6976       GCAG                      missense_variant              MODERATE   \n",
       "\n",
       "     ANN_Gene_Name      ANN_Gene_ID ANN_Feature_Type   ANN_Feature_ID  \\\n",
       "0             HES4  ENSG00000188290       transcript  ENST00000428771   \n",
       "1             HES4  ENSG00000188290       transcript  ENST00000428771   \n",
       "2             DVL1  ENSG00000107404       transcript  ENST00000378888   \n",
       "3             DVL1  ENSG00000107404       transcript  ENST00000378888   \n",
       "4           CDK11B  ENSG00000248333       transcript  ENST00000407249   \n",
       "...            ...              ...              ...              ...   \n",
       "6972         SPRY3  ENSG00000168939       transcript  ENST00000302805   \n",
       "6973         SPRY3  ENSG00000168939       transcript  ENST00000302805   \n",
       "6974   AJ271736.10  ENSG00000270726       transcript  ENST00000483543   \n",
       "6975          IL9R  ENSG00000124334       transcript  ENST00000244174   \n",
       "6976          IL9R  ENSG00000124334       transcript  ENST00000244174   \n",
       "\n",
       "     ANN_Transcript_BioType  ANN_Rank               ANN_HGVS_c  \\\n",
       "0            protein_coding        -1                 *3046C>A   \n",
       "1            protein_coding         1                   132G>T   \n",
       "2            protein_coding         4                   366A>G   \n",
       "3            protein_coding         1                   -45C>T   \n",
       "4            protein_coding        18                1927-7C>T   \n",
       "...                     ...       ...                      ...   \n",
       "6972         protein_coding         2                 *7429T>G   \n",
       "6973         protein_coding         2                 *7526T>C   \n",
       "6974        retained_intron        -1                  -785T>C   \n",
       "6975         protein_coding         9                   991G>A   \n",
       "6976         protein_coding         9  1316_1319delACAAinsGCAG   \n",
       "\n",
       "           ANN_HGVS_p  ANN_cDNA_pos  ANN_cDNA_length  ANN_CDS_pos  \\\n",
       "0                 NaN            -1               -1           -1   \n",
       "1            Arg44Ser           331             1040          132   \n",
       "2           Pro122Pro           651             3239          366   \n",
       "3                 NaN            -1               -1           -1   \n",
       "4                 NaN            -1               -1           -1   \n",
       "...               ...           ...              ...          ...   \n",
       "6972              NaN            -1               -1           -1   \n",
       "6973              NaN            -1               -1           -1   \n",
       "6974              NaN            -1               -1           -1   \n",
       "6975        Gly331Arg          1170             1944          991   \n",
       "6976  AsnAsn439SerSer          1495             1944         1316   \n",
       "\n",
       "      ANN_CDS_length  ANN_AA_pos  ANN_AA_length  ANN_Distance  \n",
       "0                 -1          -1             -1          2949  \n",
       "1                744          44            247            -1  \n",
       "2               2088         122            695            -1  \n",
       "3                 -1          -1             -1            45  \n",
       "4                 -1          -1             -1            -1  \n",
       "...              ...         ...            ...           ...  \n",
       "6972              -1          -1             -1          7429  \n",
       "6973              -1          -1             -1          7526  \n",
       "6974              -1          -1             -1           785  \n",
       "6975            1566         331            521            -1  \n",
       "6976            1566         439            521            -1  \n",
       "\n",
       "[6977 rows x 18 columns]"
      ]
     },
     "execution_count": 63,
     "metadata": {},
     "output_type": "execute_result"
    }
   ],
   "source": [
    "# snpeff = allel.vcf_to_dataframe('../doc/snpeff/Challenge_data__snpEff.vcf').join(\n",
    "#     allel.vcf_to_dataframe(\n",
    "#         '../doc/snpeff/Challenge_data__snpEff.vcf', fields='ANN', transformers=allel.ANNTransformer()))\n",
    "snpeff = allel.vcf_to_dataframe(\n",
    "    '../doc/snpeff/Challenge_data__snpEff.vcf', fields='ANN', transformers=allel.ANNTransformer())\n",
    "snpeff"
   ]
  },
  {
   "cell_type": "code",
   "execution_count": 58,
   "metadata": {
    "pycharm": {
     "is_executing": true
    }
   },
   "outputs": [
    {
     "data": {
      "text/plain": [
       "Index(['CHROM', 'POS', 'ID', 'REF', 'ALT_1', 'ALT_2', 'ALT_3', 'QUAL',\n",
       "       'FILTER_PASS', 'ANN_Allele', 'ANN_Annotation', 'ANN_Annotation_Impact',\n",
       "       'ANN_Gene_Name', 'ANN_Gene_ID', 'ANN_Feature_Type', 'ANN_Feature_ID',\n",
       "       'ANN_Transcript_BioType', 'ANN_Rank', 'ANN_HGVS_c', 'ANN_HGVS_p',\n",
       "       'ANN_cDNA_pos', 'ANN_cDNA_length', 'ANN_CDS_pos', 'ANN_CDS_length',\n",
       "       'ANN_AA_pos', 'ANN_AA_length', 'ANN_Distance'],\n",
       "      dtype='object')"
      ]
     },
     "execution_count": 58,
     "metadata": {},
     "output_type": "execute_result"
    }
   ],
   "source": [
    "snpeff.columns"
   ]
  },
  {
   "cell_type": "code",
   "execution_count": null,
   "metadata": {
    "pycharm": {
     "is_executing": true
    }
   },
   "outputs": [],
   "source": []
  },
  {
   "cell_type": "code",
   "execution_count": 59,
   "metadata": {
    "pycharm": {
     "is_executing": true
    }
   },
   "outputs": [],
   "source": [
    "allel.vcf_to_dataframe?"
   ]
  },
  {
   "cell_type": "code",
   "execution_count": 60,
   "metadata": {
    "pycharm": {
     "is_executing": true
    }
   },
   "outputs": [
    {
     "data": {
      "text/plain": [
       "(6977, 27)"
      ]
     },
     "execution_count": 60,
     "metadata": {},
     "output_type": "execute_result"
    }
   ],
   "source": [
    "snpeff.shape"
   ]
  },
  {
   "cell_type": "code",
   "execution_count": null,
   "metadata": {
    "pycharm": {
     "is_executing": true
    }
   },
   "outputs": [],
   "source": [
    "snpeff.ANN_Annotation_Impact.value_counts()"
   ]
  }
 ],
 "metadata": {
  "kernelspec": {
   "display_name": "Python 3",
   "language": "python",
   "name": "python3"
  },
  "language_info": {
   "codemirror_mode": {
    "name": "ipython",
    "version": 3
   },
   "file_extension": ".py",
   "mimetype": "text/x-python",
   "name": "python",
   "nbconvert_exporter": "python",
   "pygments_lexer": "ipython3",
   "version": "3.7.4"
  },
  "pycharm": {
   "stem_cell": {
    "cell_type": "raw",
    "metadata": {
     "collapsed": false
    },
    "source": []
   }
  }
 },
 "nbformat": 4,
 "nbformat_minor": 2
}
